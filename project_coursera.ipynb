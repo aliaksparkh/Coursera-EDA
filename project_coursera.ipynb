{
 "cells": [
  {
   "cell_type": "markdown",
   "metadata": {},
   "source": [
    "# Analysis of cousera dataset"
   ]
  },
  {
   "cell_type": "code",
   "execution_count": 105,
   "metadata": {},
   "outputs": [],
   "source": [
    "import pandas as pd\n",
    "import numpy as np\n",
    "import matplotlib as mpl\n",
    "import matplotlib.pyplot as plt\n",
    "import seaborn as sns\n",
    "import plotly.express as px\n",
    "from scipy import stats\n",
    "from matplotlib.ticker import FuncFormatter"
   ]
  },
  {
   "cell_type": "code",
   "execution_count": 106,
   "metadata": {},
   "outputs": [
    {
     "data": {
      "text/html": [
       "<div>\n",
       "<style scoped>\n",
       "    .dataframe tbody tr th:only-of-type {\n",
       "        vertical-align: middle;\n",
       "    }\n",
       "\n",
       "    .dataframe tbody tr th {\n",
       "        vertical-align: top;\n",
       "    }\n",
       "\n",
       "    .dataframe thead th {\n",
       "        text-align: right;\n",
       "    }\n",
       "</style>\n",
       "<table border=\"1\" class=\"dataframe\">\n",
       "  <thead>\n",
       "    <tr style=\"text-align: right;\">\n",
       "      <th></th>\n",
       "      <th>Unnamed: 0</th>\n",
       "      <th>course_title</th>\n",
       "      <th>course_organization</th>\n",
       "      <th>course_Certificate_type</th>\n",
       "      <th>course_rating</th>\n",
       "      <th>course_difficulty</th>\n",
       "      <th>course_students_enrolled</th>\n",
       "    </tr>\n",
       "  </thead>\n",
       "  <tbody>\n",
       "    <tr>\n",
       "      <th>0</th>\n",
       "      <td>134</td>\n",
       "      <td>(ISC)² Systems Security Certified Practitioner...</td>\n",
       "      <td>(ISC)²</td>\n",
       "      <td>SPECIALIZATION</td>\n",
       "      <td>4.7</td>\n",
       "      <td>Beginner</td>\n",
       "      <td>5.3k</td>\n",
       "    </tr>\n",
       "    <tr>\n",
       "      <th>1</th>\n",
       "      <td>743</td>\n",
       "      <td>A Crash Course in Causality:  Inferring Causal...</td>\n",
       "      <td>University of Pennsylvania</td>\n",
       "      <td>COURSE</td>\n",
       "      <td>4.7</td>\n",
       "      <td>Intermediate</td>\n",
       "      <td>17k</td>\n",
       "    </tr>\n",
       "    <tr>\n",
       "      <th>2</th>\n",
       "      <td>874</td>\n",
       "      <td>A Crash Course in Data Science</td>\n",
       "      <td>Johns Hopkins University</td>\n",
       "      <td>COURSE</td>\n",
       "      <td>4.5</td>\n",
       "      <td>Mixed</td>\n",
       "      <td>130k</td>\n",
       "    </tr>\n",
       "    <tr>\n",
       "      <th>3</th>\n",
       "      <td>413</td>\n",
       "      <td>A Law Student's Toolkit</td>\n",
       "      <td>Yale University</td>\n",
       "      <td>COURSE</td>\n",
       "      <td>4.7</td>\n",
       "      <td>Mixed</td>\n",
       "      <td>91k</td>\n",
       "    </tr>\n",
       "    <tr>\n",
       "      <th>4</th>\n",
       "      <td>635</td>\n",
       "      <td>A Life of Happiness and Fulfillment</td>\n",
       "      <td>Indian School of Business</td>\n",
       "      <td>COURSE</td>\n",
       "      <td>4.8</td>\n",
       "      <td>Mixed</td>\n",
       "      <td>320k</td>\n",
       "    </tr>\n",
       "  </tbody>\n",
       "</table>\n",
       "</div>"
      ],
      "text/plain": [
       "   Unnamed: 0                                       course_title  \\\n",
       "0         134  (ISC)² Systems Security Certified Practitioner...   \n",
       "1         743  A Crash Course in Causality:  Inferring Causal...   \n",
       "2         874                     A Crash Course in Data Science   \n",
       "3         413                            A Law Student's Toolkit   \n",
       "4         635                A Life of Happiness and Fulfillment   \n",
       "\n",
       "          course_organization course_Certificate_type  course_rating  \\\n",
       "0                      (ISC)²          SPECIALIZATION            4.7   \n",
       "1  University of Pennsylvania                  COURSE            4.7   \n",
       "2    Johns Hopkins University                  COURSE            4.5   \n",
       "3             Yale University                  COURSE            4.7   \n",
       "4   Indian School of Business                  COURSE            4.8   \n",
       "\n",
       "  course_difficulty course_students_enrolled  \n",
       "0          Beginner                     5.3k  \n",
       "1      Intermediate                      17k  \n",
       "2             Mixed                     130k  \n",
       "3             Mixed                      91k  \n",
       "4             Mixed                     320k  "
      ]
     },
     "execution_count": 106,
     "metadata": {},
     "output_type": "execute_result"
    }
   ],
   "source": [
    "df = pd.read_csv('/Users/alex/Downloads/Project3/coursea_data.csv')\n",
    "df.head()"
   ]
  },
  {
   "cell_type": "markdown",
   "metadata": {},
   "source": [
    "# Data cleaning"
   ]
  },
  {
   "cell_type": "markdown",
   "metadata": {},
   "source": [
    "Remove unneccesary column"
   ]
  },
  {
   "cell_type": "code",
   "execution_count": 107,
   "metadata": {},
   "outputs": [],
   "source": [
    "df = df.drop('Unnamed: 0', axis=1)"
   ]
  },
  {
   "cell_type": "code",
   "execution_count": 108,
   "metadata": {},
   "outputs": [
    {
     "data": {
      "text/plain": [
       "(891, 6)"
      ]
     },
     "execution_count": 108,
     "metadata": {},
     "output_type": "execute_result"
    }
   ],
   "source": [
    "df.shape"
   ]
  },
  {
   "cell_type": "markdown",
   "metadata": {},
   "source": [
    "Check for duplicates"
   ]
  },
  {
   "cell_type": "code",
   "execution_count": 109,
   "metadata": {},
   "outputs": [
    {
     "name": "stdout",
     "output_type": "stream",
     "text": [
      "There are no duplicate rows.\n"
     ]
    }
   ],
   "source": [
    "duplicate_rows = df[df.duplicated()]\n",
    "if not duplicate_rows.empty:\n",
    "    print(f\"There {'is' if len(duplicate_rows) == 1 else 'are'} {len(duplicate_rows)} duplicate row{'' if len(duplicate_rows) == 1 else 's'}.\")\n",
    "else:\n",
    "    print(\"There are no duplicate rows.\")"
   ]
  },
  {
   "cell_type": "markdown",
   "metadata": {},
   "source": [
    "Check for missing values"
   ]
  },
  {
   "cell_type": "code",
   "execution_count": 110,
   "metadata": {},
   "outputs": [
    {
     "data": {
      "text/plain": [
       "course_title                False\n",
       "course_organization         False\n",
       "course_Certificate_type     False\n",
       "course_rating               False\n",
       "course_difficulty           False\n",
       "course_students_enrolled    False\n",
       "dtype: bool"
      ]
     },
     "execution_count": 110,
     "metadata": {},
     "output_type": "execute_result"
    }
   ],
   "source": [
    "df.isnull().any()"
   ]
  },
  {
   "cell_type": "markdown",
   "metadata": {},
   "source": [
    "Check for data type"
   ]
  },
  {
   "cell_type": "code",
   "execution_count": 111,
   "metadata": {},
   "outputs": [
    {
     "name": "stdout",
     "output_type": "stream",
     "text": [
      "<class 'pandas.core.frame.DataFrame'>\n",
      "RangeIndex: 891 entries, 0 to 890\n",
      "Data columns (total 6 columns):\n",
      " #   Column                    Non-Null Count  Dtype  \n",
      "---  ------                    --------------  -----  \n",
      " 0   course_title              891 non-null    object \n",
      " 1   course_organization       891 non-null    object \n",
      " 2   course_Certificate_type   891 non-null    object \n",
      " 3   course_rating             891 non-null    float64\n",
      " 4   course_difficulty         891 non-null    object \n",
      " 5   course_students_enrolled  891 non-null    object \n",
      "dtypes: float64(1), object(5)\n",
      "memory usage: 41.9+ KB\n"
     ]
    }
   ],
   "source": [
    "df.info()"
   ]
  },
  {
   "cell_type": "markdown",
   "metadata": {},
   "source": [
    "The column 'course_students_enrolled' is categorical and should be converted to numerical to proceed the analysis."
   ]
  },
  {
   "cell_type": "markdown",
   "metadata": {},
   "source": [
    "Check the  strings data in course_students_enrolled column on variability of strings."
   ]
  },
  {
   "cell_type": "code",
   "execution_count": 112,
   "metadata": {},
   "outputs": [
    {
     "name": "stdout",
     "output_type": "stream",
     "text": [
      "Strings containing a period:\n",
      "['1.3m', '1.5k', '1.5m', '1.6k', '1.7k', '1.8k', '1.9k', '2.2k', '2.3k', '2.4k', '2.5m', '2.6k', '2.9k', '3.2k', '3.2m', '3.3k', '3.4k', '3.5k', '3.6k', '3.8k', '3.9k', '4.1k', '4.2k', '4.4k', '4.5k', '4.8k', '4.9k', '5.2k', '5.3k', '5.4k', '5.5k', '5.6k', '5.8k', '5.9k', '6.1k', '6.2k', '6.3k', '6.4k', '6.5k', '6.6k', '6.8k', '7.1k', '7.2k', '7.3k', '7.4k', '7.6k', '7.7k', '7.8k', '7.9k', '8.1k', '8.2k', '8.4k', '8.5k', '8.7k', '8.8k', '8.9k', '9.1k', '9.2k', '9.4k', '9.5k', '9.7k', '9.8k', '9.9k']\n",
      "\n",
      "Strings containing a comma:\n",
      "No strings with comma\n"
     ]
    }
   ],
   "source": [
    "unique_students_enrolled = sorted(df['course_students_enrolled'].unique())\n",
    "contains_period = [value for value in unique_students_enrolled if '.' in str(value)]\n",
    "contains_comma = [value for value in unique_students_enrolled if ',' in str(value)]\n",
    "if not contains_period:\n",
    "    contains_period = 'No strings with period'\n",
    "if not contains_comma:\n",
    "    contains_comma = 'No strings with comma'\n",
    "print(\"Strings containing a period:\")\n",
    "print(contains_period)\n",
    "print(\"\\nStrings containing a comma:\")\n",
    "print(contains_comma)"
   ]
  },
  {
   "cell_type": "markdown",
   "metadata": {},
   "source": [
    "Convert strings to float format in course_students_enrolled column"
   ]
  },
  {
   "cell_type": "code",
   "execution_count": 113,
   "metadata": {},
   "outputs": [
    {
     "data": {
      "text/html": [
       "<div>\n",
       "<style scoped>\n",
       "    .dataframe tbody tr th:only-of-type {\n",
       "        vertical-align: middle;\n",
       "    }\n",
       "\n",
       "    .dataframe tbody tr th {\n",
       "        vertical-align: top;\n",
       "    }\n",
       "\n",
       "    .dataframe thead th {\n",
       "        text-align: right;\n",
       "    }\n",
       "</style>\n",
       "<table border=\"1\" class=\"dataframe\">\n",
       "  <thead>\n",
       "    <tr style=\"text-align: right;\">\n",
       "      <th></th>\n",
       "      <th>course_title</th>\n",
       "      <th>course_organization</th>\n",
       "      <th>course_Certificate_type</th>\n",
       "      <th>course_rating</th>\n",
       "      <th>course_difficulty</th>\n",
       "      <th>course_students_enrolled</th>\n",
       "    </tr>\n",
       "  </thead>\n",
       "  <tbody>\n",
       "    <tr>\n",
       "      <th>0</th>\n",
       "      <td>(ISC)² Systems Security Certified Practitioner...</td>\n",
       "      <td>(ISC)²</td>\n",
       "      <td>SPECIALIZATION</td>\n",
       "      <td>4.7</td>\n",
       "      <td>Beginner</td>\n",
       "      <td>5300.0</td>\n",
       "    </tr>\n",
       "    <tr>\n",
       "      <th>1</th>\n",
       "      <td>A Crash Course in Causality:  Inferring Causal...</td>\n",
       "      <td>University of Pennsylvania</td>\n",
       "      <td>COURSE</td>\n",
       "      <td>4.7</td>\n",
       "      <td>Intermediate</td>\n",
       "      <td>17000.0</td>\n",
       "    </tr>\n",
       "    <tr>\n",
       "      <th>2</th>\n",
       "      <td>A Crash Course in Data Science</td>\n",
       "      <td>Johns Hopkins University</td>\n",
       "      <td>COURSE</td>\n",
       "      <td>4.5</td>\n",
       "      <td>Mixed</td>\n",
       "      <td>130000.0</td>\n",
       "    </tr>\n",
       "    <tr>\n",
       "      <th>3</th>\n",
       "      <td>A Law Student's Toolkit</td>\n",
       "      <td>Yale University</td>\n",
       "      <td>COURSE</td>\n",
       "      <td>4.7</td>\n",
       "      <td>Mixed</td>\n",
       "      <td>91000.0</td>\n",
       "    </tr>\n",
       "    <tr>\n",
       "      <th>4</th>\n",
       "      <td>A Life of Happiness and Fulfillment</td>\n",
       "      <td>Indian School of Business</td>\n",
       "      <td>COURSE</td>\n",
       "      <td>4.8</td>\n",
       "      <td>Mixed</td>\n",
       "      <td>320000.0</td>\n",
       "    </tr>\n",
       "  </tbody>\n",
       "</table>\n",
       "</div>"
      ],
      "text/plain": [
       "                                        course_title  \\\n",
       "0  (ISC)² Systems Security Certified Practitioner...   \n",
       "1  A Crash Course in Causality:  Inferring Causal...   \n",
       "2                     A Crash Course in Data Science   \n",
       "3                            A Law Student's Toolkit   \n",
       "4                A Life of Happiness and Fulfillment   \n",
       "\n",
       "          course_organization course_Certificate_type  course_rating  \\\n",
       "0                      (ISC)²          SPECIALIZATION            4.7   \n",
       "1  University of Pennsylvania                  COURSE            4.7   \n",
       "2    Johns Hopkins University                  COURSE            4.5   \n",
       "3             Yale University                  COURSE            4.7   \n",
       "4   Indian School of Business                  COURSE            4.8   \n",
       "\n",
       "  course_difficulty  course_students_enrolled  \n",
       "0          Beginner                    5300.0  \n",
       "1      Intermediate                   17000.0  \n",
       "2             Mixed                  130000.0  \n",
       "3             Mixed                   91000.0  \n",
       "4             Mixed                  320000.0  "
      ]
     },
     "execution_count": 113,
     "metadata": {},
     "output_type": "execute_result"
    }
   ],
   "source": [
    "def value_to_float(x):\n",
    "    if isinstance(x, float):\n",
    "        return x\n",
    "    x = x.lower().replace(',', '').strip()\n",
    "    if 'k' in x:\n",
    "        return float(x.replace('k', '')) * 1000\n",
    "    if 'm' in x:\n",
    "        return float(x.replace('m', '')) * 1000000\n",
    "    return float(x)\n",
    "df['course_students_enrolled'] = df['course_students_enrolled'].apply(value_to_float)\n",
    "df.head()"
   ]
  },
  {
   "cell_type": "markdown",
   "metadata": {},
   "source": [
    "Check for numeric and cateogorial data type"
   ]
  },
  {
   "cell_type": "code",
   "execution_count": 114,
   "metadata": {},
   "outputs": [
    {
     "data": {
      "text/plain": [
       "course_title                 object\n",
       "course_organization          object\n",
       "course_Certificate_type      object\n",
       "course_rating               float64\n",
       "course_difficulty            object\n",
       "course_students_enrolled    float64\n",
       "dtype: object"
      ]
     },
     "execution_count": 114,
     "metadata": {},
     "output_type": "execute_result"
    }
   ],
   "source": [
    "df.dtypes"
   ]
  },
  {
   "cell_type": "markdown",
   "metadata": {},
   "source": [
    "Evaluation of distinct values in each column"
   ]
  },
  {
   "cell_type": "code",
   "execution_count": 115,
   "metadata": {},
   "outputs": [
    {
     "data": {
      "text/plain": [
       "course_title                888\n",
       "course_organization         154\n",
       "course_Certificate_type       3\n",
       "course_rating                14\n",
       "course_difficulty             4\n",
       "course_students_enrolled    205\n",
       "dtype: int64"
      ]
     },
     "execution_count": 115,
     "metadata": {},
     "output_type": "execute_result"
    }
   ],
   "source": [
    "df.nunique()"
   ]
  },
  {
   "cell_type": "markdown",
   "metadata": {},
   "source": [
    "Find course titles that appear more than once, since unique number of course_tittle less than total rows"
   ]
  },
  {
   "cell_type": "code",
   "execution_count": 116,
   "metadata": {},
   "outputs": [
    {
     "data": {
      "text/html": [
       "<div>\n",
       "<style scoped>\n",
       "    .dataframe tbody tr th:only-of-type {\n",
       "        vertical-align: middle;\n",
       "    }\n",
       "\n",
       "    .dataframe tbody tr th {\n",
       "        vertical-align: top;\n",
       "    }\n",
       "\n",
       "    .dataframe thead th {\n",
       "        text-align: right;\n",
       "    }\n",
       "</style>\n",
       "<table border=\"1\" class=\"dataframe\">\n",
       "  <thead>\n",
       "    <tr style=\"text-align: right;\">\n",
       "      <th></th>\n",
       "      <th>course_title</th>\n",
       "      <th>course_organization</th>\n",
       "      <th>course_Certificate_type</th>\n",
       "      <th>course_rating</th>\n",
       "      <th>course_difficulty</th>\n",
       "      <th>course_students_enrolled</th>\n",
       "    </tr>\n",
       "  </thead>\n",
       "  <tbody>\n",
       "    <tr>\n",
       "      <th>224</th>\n",
       "      <td>Developing Your Musicianship</td>\n",
       "      <td>Berklee College of Music</td>\n",
       "      <td>COURSE</td>\n",
       "      <td>4.8</td>\n",
       "      <td>Mixed</td>\n",
       "      <td>41000.0</td>\n",
       "    </tr>\n",
       "    <tr>\n",
       "      <th>225</th>\n",
       "      <td>Developing Your Musicianship</td>\n",
       "      <td>Berklee College of Music</td>\n",
       "      <td>SPECIALIZATION</td>\n",
       "      <td>4.8</td>\n",
       "      <td>Beginner</td>\n",
       "      <td>54000.0</td>\n",
       "    </tr>\n",
       "    <tr>\n",
       "      <th>563</th>\n",
       "      <td>Machine Learning</td>\n",
       "      <td>University of Washington</td>\n",
       "      <td>SPECIALIZATION</td>\n",
       "      <td>4.6</td>\n",
       "      <td>Intermediate</td>\n",
       "      <td>290000.0</td>\n",
       "    </tr>\n",
       "    <tr>\n",
       "      <th>564</th>\n",
       "      <td>Machine Learning</td>\n",
       "      <td>Stanford University</td>\n",
       "      <td>COURSE</td>\n",
       "      <td>4.9</td>\n",
       "      <td>Mixed</td>\n",
       "      <td>3200000.0</td>\n",
       "    </tr>\n",
       "    <tr>\n",
       "      <th>582</th>\n",
       "      <td>Marketing Digital</td>\n",
       "      <td>Universidade de São Paulo</td>\n",
       "      <td>COURSE</td>\n",
       "      <td>4.8</td>\n",
       "      <td>Beginner</td>\n",
       "      <td>81000.0</td>\n",
       "    </tr>\n",
       "    <tr>\n",
       "      <th>583</th>\n",
       "      <td>Marketing Digital</td>\n",
       "      <td>Universidad Austral</td>\n",
       "      <td>SPECIALIZATION</td>\n",
       "      <td>4.7</td>\n",
       "      <td>Beginner</td>\n",
       "      <td>39000.0</td>\n",
       "    </tr>\n",
       "  </tbody>\n",
       "</table>\n",
       "</div>"
      ],
      "text/plain": [
       "                     course_title        course_organization  \\\n",
       "224  Developing Your Musicianship   Berklee College of Music   \n",
       "225  Developing Your Musicianship   Berklee College of Music   \n",
       "563              Machine Learning   University of Washington   \n",
       "564              Machine Learning        Stanford University   \n",
       "582             Marketing Digital  Universidade de São Paulo   \n",
       "583             Marketing Digital        Universidad Austral   \n",
       "\n",
       "    course_Certificate_type  course_rating course_difficulty  \\\n",
       "224                  COURSE            4.8             Mixed   \n",
       "225          SPECIALIZATION            4.8          Beginner   \n",
       "563          SPECIALIZATION            4.6      Intermediate   \n",
       "564                  COURSE            4.9             Mixed   \n",
       "582                  COURSE            4.8          Beginner   \n",
       "583          SPECIALIZATION            4.7          Beginner   \n",
       "\n",
       "     course_students_enrolled  \n",
       "224                   41000.0  \n",
       "225                   54000.0  \n",
       "563                  290000.0  \n",
       "564                 3200000.0  \n",
       "582                   81000.0  \n",
       "583                   39000.0  "
      ]
     },
     "execution_count": 116,
     "metadata": {},
     "output_type": "execute_result"
    }
   ],
   "source": [
    "duplicate_titles = df[df.duplicated(subset='course_title', keep=False)]\n",
    "duplicate_titles = duplicate_titles.sort_values(by='course_title')\n",
    "duplicate_titles"
   ]
  },
  {
   "cell_type": "markdown",
   "metadata": {},
   "source": [
    "### Data normalization"
   ]
  },
  {
   "cell_type": "code",
   "execution_count": 117,
   "metadata": {},
   "outputs": [
    {
     "data": {
      "image/png": "[encoded data removed]",
      "text/plain": [
       "<Figure size 1500x600 with 2 Axes>"
      ]
     },
     "metadata": {},
     "output_type": "display_data"
    }
   ],
   "source": [
    "original_data = df['course_students_enrolled']\n",
    "normalized_data = stats.boxcox(original_data + 1) \n",
    "fig, ax = plt.subplots(1, 2, figsize=(15, 6))\n",
    "sns.histplot(original_data, ax=ax[0], kde=True, legend=False, color='lightslategrey')\n",
    "ax[0].set_title(\"Original Data\")\n",
    "sns.histplot(normalized_data[0], ax=ax[1], kde=True, legend=False, color='#1F77B4')\n",
    "ax[1].set_title(\"Normalized Data\")\n",
    "plt.show()"
   ]
  },
  {
   "cell_type": "code",
   "execution_count": 167,
   "metadata": {},
   "outputs": [
    {
     "data": {
      "image/png": "[encoded data removed]",
      "text/plain": [
       "<Figure size 1500x600 with 2 Axes>"
      ]
     },
     "metadata": {},
     "output_type": "display_data"
    }
   ],
   "source": [
    "original_data_rating = df['course_rating']\n",
    "normalized_data_rating = stats.boxcox(original_data_rating + 1)  \n",
    "fig, ax = plt.subplots(1, 2, figsize=(15, 6))\n",
    "sns.histplot(original_data_rating, ax=ax[0], kde=True, legend=False, color='lightslategrey')\n",
    "ax[0].set_title(\"Original Data\")\n",
    "sns.histplot(normalized_data_rating[0], ax=ax[1], kde=True, legend=False, color='#1F77B4')\n",
    "ax[1].set_title(\"Normalized Data\")\n",
    "plt.show() "
   ]
  },
  {
   "cell_type": "markdown",
   "metadata": {},
   "source": [
    "The data on course ratings is  not notmally distributed."
   ]
  },
  {
   "cell_type": "markdown",
   "metadata": {},
   "source": [
    "### Treating the outliers in numeric columns"
   ]
  },
  {
   "cell_type": "code",
   "execution_count": 157,
   "metadata": {},
   "outputs": [
    {
     "data": {
      "image/png": "[encoded data removed]",
      "text/plain": [
       "<Figure size 700x400 with 1 Axes>"
      ]
     },
     "metadata": {},
     "output_type": "display_data"
    }
   ],
   "source": [
    "plt.figure(figsize=(7, 4))\n",
    "sns.boxplot(x=df['course_rating'], color='lightslategrey')\n",
    "plt.title('Box Plot of Course Ratings', fontsize=16)\n",
    "plt.xlabel('course rating', fontsize=10)\n",
    "plt.show()"
   ]
  },
  {
   "cell_type": "markdown",
   "metadata": {},
   "source": [
    "List of outliers based on course rating"
   ]
  },
  {
   "cell_type": "code",
   "execution_count": 120,
   "metadata": {},
   "outputs": [
    {
     "data": {
      "text/html": [
       "<div>\n",
       "<style scoped>\n",
       "    .dataframe tbody tr th:only-of-type {\n",
       "        vertical-align: middle;\n",
       "    }\n",
       "\n",
       "    .dataframe tbody tr th {\n",
       "        vertical-align: top;\n",
       "    }\n",
       "\n",
       "    .dataframe thead th {\n",
       "        text-align: right;\n",
       "    }\n",
       "</style>\n",
       "<table border=\"1\" class=\"dataframe\">\n",
       "  <thead>\n",
       "    <tr style=\"text-align: right;\">\n",
       "      <th></th>\n",
       "      <th>course_title</th>\n",
       "      <th>course_organization</th>\n",
       "      <th>course_Certificate_type</th>\n",
       "      <th>course_rating</th>\n",
       "      <th>course_difficulty</th>\n",
       "      <th>course_students_enrolled</th>\n",
       "    </tr>\n",
       "  </thead>\n",
       "  <tbody>\n",
       "    <tr>\n",
       "      <th>413</th>\n",
       "      <td>How To Create a Website in a Weekend! (Project...</td>\n",
       "      <td>The State University of New York</td>\n",
       "      <td>COURSE</td>\n",
       "      <td>3.3</td>\n",
       "      <td>Mixed</td>\n",
       "      <td>140000.0</td>\n",
       "    </tr>\n",
       "    <tr>\n",
       "      <th>566</th>\n",
       "      <td>Machine Learning and Reinforcement Learning in...</td>\n",
       "      <td>New York University</td>\n",
       "      <td>SPECIALIZATION</td>\n",
       "      <td>3.7</td>\n",
       "      <td>Intermediate</td>\n",
       "      <td>29000.0</td>\n",
       "    </tr>\n",
       "    <tr>\n",
       "      <th>873</th>\n",
       "      <td>iOS App Development with Swift</td>\n",
       "      <td>University of Toronto</td>\n",
       "      <td>SPECIALIZATION</td>\n",
       "      <td>3.9</td>\n",
       "      <td>Intermediate</td>\n",
       "      <td>76000.0</td>\n",
       "    </tr>\n",
       "    <tr>\n",
       "      <th>569</th>\n",
       "      <td>Machine Learning for Trading</td>\n",
       "      <td>Google Cloud</td>\n",
       "      <td>SPECIALIZATION</td>\n",
       "      <td>3.9</td>\n",
       "      <td>Intermediate</td>\n",
       "      <td>15000.0</td>\n",
       "    </tr>\n",
       "    <tr>\n",
       "      <th>598</th>\n",
       "      <td>Mathematics for Machine Learning: PCA</td>\n",
       "      <td>Imperial College London</td>\n",
       "      <td>COURSE</td>\n",
       "      <td>4.0</td>\n",
       "      <td>Intermediate</td>\n",
       "      <td>33000.0</td>\n",
       "    </tr>\n",
       "    <tr>\n",
       "      <th>522</th>\n",
       "      <td>Introduction to Trading, Machine Learning &amp; GCP</td>\n",
       "      <td>New York Institute of Finance</td>\n",
       "      <td>COURSE</td>\n",
       "      <td>4.0</td>\n",
       "      <td>Intermediate</td>\n",
       "      <td>13000.0</td>\n",
       "    </tr>\n",
       "    <tr>\n",
       "      <th>414</th>\n",
       "      <td>How to Start Your Own Business</td>\n",
       "      <td>Michigan State University</td>\n",
       "      <td>SPECIALIZATION</td>\n",
       "      <td>4.1</td>\n",
       "      <td>Beginner</td>\n",
       "      <td>34000.0</td>\n",
       "    </tr>\n",
       "    <tr>\n",
       "      <th>445</th>\n",
       "      <td>Instructional Design Foundations and Applications</td>\n",
       "      <td>University of Illinois at Urbana-Champaign</td>\n",
       "      <td>COURSE</td>\n",
       "      <td>4.2</td>\n",
       "      <td>Mixed</td>\n",
       "      <td>12000.0</td>\n",
       "    </tr>\n",
       "    <tr>\n",
       "      <th>515</th>\n",
       "      <td>Introduction to Spreadsheets and Models</td>\n",
       "      <td>University of Pennsylvania</td>\n",
       "      <td>COURSE</td>\n",
       "      <td>4.2</td>\n",
       "      <td>Mixed</td>\n",
       "      <td>76000.0</td>\n",
       "    </tr>\n",
       "    <tr>\n",
       "      <th>844</th>\n",
       "      <td>Unity XR: How to Build AR and VR Apps</td>\n",
       "      <td>Unity</td>\n",
       "      <td>SPECIALIZATION</td>\n",
       "      <td>4.2</td>\n",
       "      <td>Beginner</td>\n",
       "      <td>12000.0</td>\n",
       "    </tr>\n",
       "    <tr>\n",
       "      <th>402</th>\n",
       "      <td>Hardware Description Languages for FPGA Design</td>\n",
       "      <td>University of Colorado Boulder</td>\n",
       "      <td>COURSE</td>\n",
       "      <td>4.2</td>\n",
       "      <td>Intermediate</td>\n",
       "      <td>7400.0</td>\n",
       "    </tr>\n",
       "    <tr>\n",
       "      <th>331</th>\n",
       "      <td>Foundations of Marketing Analytics</td>\n",
       "      <td>Emory University</td>\n",
       "      <td>SPECIALIZATION</td>\n",
       "      <td>4.2</td>\n",
       "      <td>Intermediate</td>\n",
       "      <td>27000.0</td>\n",
       "    </tr>\n",
       "    <tr>\n",
       "      <th>590</th>\n",
       "      <td>Mastering Data Analysis in Excel</td>\n",
       "      <td>Duke University</td>\n",
       "      <td>COURSE</td>\n",
       "      <td>4.2</td>\n",
       "      <td>Mixed</td>\n",
       "      <td>280000.0</td>\n",
       "    </tr>\n",
       "    <tr>\n",
       "      <th>182</th>\n",
       "      <td>Cybersecurity and Its Ten Domains</td>\n",
       "      <td>University System of Georgia</td>\n",
       "      <td>COURSE</td>\n",
       "      <td>4.2</td>\n",
       "      <td>Beginner</td>\n",
       "      <td>140000.0</td>\n",
       "    </tr>\n",
       "    <tr>\n",
       "      <th>640</th>\n",
       "      <td>Optical Engineering</td>\n",
       "      <td>University of Colorado Boulder</td>\n",
       "      <td>SPECIALIZATION</td>\n",
       "      <td>4.2</td>\n",
       "      <td>Advanced</td>\n",
       "      <td>6200.0</td>\n",
       "    </tr>\n",
       "    <tr>\n",
       "      <th>676</th>\n",
       "      <td>Project Execution</td>\n",
       "      <td>University of California, Irvine</td>\n",
       "      <td>COURSE</td>\n",
       "      <td>4.2</td>\n",
       "      <td>Beginner</td>\n",
       "      <td>70000.0</td>\n",
       "    </tr>\n",
       "    <tr>\n",
       "      <th>59</th>\n",
       "      <td>Aprende a programar con Python</td>\n",
       "      <td>Universidad Austral</td>\n",
       "      <td>SPECIALIZATION</td>\n",
       "      <td>4.2</td>\n",
       "      <td>Beginner</td>\n",
       "      <td>6600.0</td>\n",
       "    </tr>\n",
       "  </tbody>\n",
       "</table>\n",
       "</div>"
      ],
      "text/plain": [
       "                                          course_title  \\\n",
       "413  How To Create a Website in a Weekend! (Project...   \n",
       "566  Machine Learning and Reinforcement Learning in...   \n",
       "873                     iOS App Development with Swift   \n",
       "569                       Machine Learning for Trading   \n",
       "598              Mathematics for Machine Learning: PCA   \n",
       "522    Introduction to Trading, Machine Learning & GCP   \n",
       "414                     How to Start Your Own Business   \n",
       "445  Instructional Design Foundations and Applications   \n",
       "515            Introduction to Spreadsheets and Models   \n",
       "844              Unity XR: How to Build AR and VR Apps   \n",
       "402     Hardware Description Languages for FPGA Design   \n",
       "331                 Foundations of Marketing Analytics   \n",
       "590                   Mastering Data Analysis in Excel   \n",
       "182                  Cybersecurity and Its Ten Domains   \n",
       "640                                Optical Engineering   \n",
       "676                                  Project Execution   \n",
       "59                      Aprende a programar con Python   \n",
       "\n",
       "                            course_organization course_Certificate_type  \\\n",
       "413            The State University of New York                  COURSE   \n",
       "566                         New York University          SPECIALIZATION   \n",
       "873                       University of Toronto          SPECIALIZATION   \n",
       "569                                Google Cloud          SPECIALIZATION   \n",
       "598                     Imperial College London                  COURSE   \n",
       "522               New York Institute of Finance                  COURSE   \n",
       "414                   Michigan State University          SPECIALIZATION   \n",
       "445  University of Illinois at Urbana-Champaign                  COURSE   \n",
       "515                  University of Pennsylvania                  COURSE   \n",
       "844                                       Unity          SPECIALIZATION   \n",
       "402              University of Colorado Boulder                  COURSE   \n",
       "331                            Emory University          SPECIALIZATION   \n",
       "590                             Duke University                  COURSE   \n",
       "182                University System of Georgia                  COURSE   \n",
       "640              University of Colorado Boulder          SPECIALIZATION   \n",
       "676            University of California, Irvine                  COURSE   \n",
       "59                          Universidad Austral          SPECIALIZATION   \n",
       "\n",
       "     course_rating course_difficulty  course_students_enrolled  \n",
       "413            3.3             Mixed                  140000.0  \n",
       "566            3.7      Intermediate                   29000.0  \n",
       "873            3.9      Intermediate                   76000.0  \n",
       "569            3.9      Intermediate                   15000.0  \n",
       "598            4.0      Intermediate                   33000.0  \n",
       "522            4.0      Intermediate                   13000.0  \n",
       "414            4.1          Beginner                   34000.0  \n",
       "445            4.2             Mixed                   12000.0  \n",
       "515            4.2             Mixed                   76000.0  \n",
       "844            4.2          Beginner                   12000.0  \n",
       "402            4.2      Intermediate                    7400.0  \n",
       "331            4.2      Intermediate                   27000.0  \n",
       "590            4.2             Mixed                  280000.0  \n",
       "182            4.2          Beginner                  140000.0  \n",
       "640            4.2          Advanced                    6200.0  \n",
       "676            4.2          Beginner                   70000.0  \n",
       "59             4.2          Beginner                    6600.0  "
      ]
     },
     "execution_count": 120,
     "metadata": {},
     "output_type": "execute_result"
    }
   ],
   "source": [
    "Q1 = df['course_rating'].quantile(0.25)\n",
    "Q3 = df['course_rating'].quantile(0.75)\n",
    "IQR = Q3 - Q1\n",
    "lower_bound = Q1 - 1.5 * IQR\n",
    "upper_bound = Q3 + 1.5 * IQR\n",
    "outliers = df[(df['course_rating'] < lower_bound) | (df['course_rating'] > upper_bound)]\n",
    "outliers_sorted = outliers.sort_values(by='course_rating')\n",
    "outliers_sorted"
   ]
  },
  {
   "cell_type": "markdown",
   "metadata": {},
   "source": [
    "Outliers in students enrolled column"
   ]
  },
  {
   "cell_type": "code",
   "execution_count": 158,
   "metadata": {},
   "outputs": [
    {
     "data": {
      "image/png": "[encoded data removed]",
      "text/plain": [
       "<Figure size 700x400 with 1 Axes>"
      ]
     },
     "metadata": {},
     "output_type": "display_data"
    }
   ],
   "source": [
    "plt.figure(figsize=(7, 4))\n",
    "sns.boxplot(x=df['course_students_enrolled'], color='lightslategrey')\n",
    "plt.title('Box Plot of students enrolled', fontsize=16)\n",
    "plt.xlabel('students enrolled', fontsize=10)\n",
    "plt.show()"
   ]
  },
  {
   "cell_type": "markdown",
   "metadata": {},
   "source": [
    "Course ratings between 3.3 and 4.2 considered as outliers, at the same time, column number of students has a significant number of outliers. However, for current analysis outliers has not been removed, because they may provide valuable insights into underlying patterns or anomalies that could be critical for a comprehensive understanding of the data."
   ]
  },
  {
   "cell_type": "markdown",
   "metadata": {},
   "source": [
    "# Exploratory Data Analysis"
   ]
  },
  {
   "cell_type": "markdown",
   "metadata": {},
   "source": [
    "### Descriptive statistics of numeric columns"
   ]
  },
  {
   "cell_type": "code",
   "execution_count": 122,
   "metadata": {},
   "outputs": [
    {
     "data": {
      "text/html": [
       "<div>\n",
       "<style scoped>\n",
       "    .dataframe tbody tr th:only-of-type {\n",
       "        vertical-align: middle;\n",
       "    }\n",
       "\n",
       "    .dataframe tbody tr th {\n",
       "        vertical-align: top;\n",
       "    }\n",
       "\n",
       "    .dataframe thead th {\n",
       "        text-align: right;\n",
       "    }\n",
       "</style>\n",
       "<table border=\"1\" class=\"dataframe\">\n",
       "  <thead>\n",
       "    <tr style=\"text-align: right;\">\n",
       "      <th></th>\n",
       "      <th>count</th>\n",
       "      <th>mean</th>\n",
       "      <th>std</th>\n",
       "      <th>min</th>\n",
       "      <th>25%</th>\n",
       "      <th>50%</th>\n",
       "      <th>75%</th>\n",
       "      <th>max</th>\n",
       "    </tr>\n",
       "  </thead>\n",
       "  <tbody>\n",
       "    <tr>\n",
       "      <th>course_rating</th>\n",
       "      <td>891.0</td>\n",
       "      <td>4.677329</td>\n",
       "      <td>0.162225</td>\n",
       "      <td>3.3</td>\n",
       "      <td>4.6</td>\n",
       "      <td>4.7</td>\n",
       "      <td>4.8</td>\n",
       "      <td>5.0</td>\n",
       "    </tr>\n",
       "    <tr>\n",
       "      <th>course_students_enrolled</th>\n",
       "      <td>891.0</td>\n",
       "      <td>90552.076319</td>\n",
       "      <td>181936.453852</td>\n",
       "      <td>1500.0</td>\n",
       "      <td>17500.0</td>\n",
       "      <td>42000.0</td>\n",
       "      <td>99500.0</td>\n",
       "      <td>3200000.0</td>\n",
       "    </tr>\n",
       "  </tbody>\n",
       "</table>\n",
       "</div>"
      ],
      "text/plain": [
       "                          count          mean            std     min      25%  \\\n",
       "course_rating             891.0      4.677329       0.162225     3.3      4.6   \n",
       "course_students_enrolled  891.0  90552.076319  181936.453852  1500.0  17500.0   \n",
       "\n",
       "                              50%      75%        max  \n",
       "course_rating                 4.7      4.8        5.0  \n",
       "course_students_enrolled  42000.0  99500.0  3200000.0  "
      ]
     },
     "execution_count": 122,
     "metadata": {},
     "output_type": "execute_result"
    }
   ],
   "source": [
    "df.describe().T"
   ]
  },
  {
   "cell_type": "markdown",
   "metadata": {},
   "source": [
    "Coursera provides 891 courses with average rating of 4.68. On average 90.5k students enrolled at a single course."
   ]
  },
  {
   "cell_type": "markdown",
   "metadata": {},
   "source": [
    "Courses by number of students"
   ]
  },
  {
   "cell_type": "code",
   "execution_count": null,
   "metadata": {},
   "outputs": [
    {
     "name": "stdout",
     "output_type": "stream",
     "text": [
      "Total students enrolled: 80.68 million\n"
     ]
    }
   ],
   "source": [
    "total_students_enrolled = df['course_students_enrolled'].sum()\n",
    "print(f\"Total students enrolled: {total_students_enrolled / 1e6:.2f} million\")"
   ]
  },
  {
   "cell_type": "markdown",
   "metadata": {},
   "source": [
    "### Distribution of courses by ratings"
   ]
  },
  {
   "cell_type": "code",
   "execution_count": 123,
   "metadata": {},
   "outputs": [
    {
     "data": {
      "application/vnd.plotly.v1+json": {
       "config": {
        "plotlyServerURL": "https://plot.ly"
       },
       "data": [
        {
         "alignmentgroup": "True",
         "bingroup": "x",
         "hovertemplate": "course_rating=%{x}<br>count=%{y}<extra></extra>",
         "legendgroup": "",
         "marker": {
          "color": "#1F77B4",
          "pattern": {
           "shape": ""
          }
         },
         "name": "",
         "nbinsx": 20,
         "offsetgroup": "",
         "orientation": "v",
         "showlegend": false,
         "type": "histogram",
         "x": [
          4.7,
          4.7,
          4.5,
          4.7,
          4.8,
          4.7,
          4.8,
          4.8,
          4.7,
          4.7,
          4.6,
          4.7,
          4.6,
          4.3,
          4.7,
          4.7,
          4.5,
          4.7,
          4.7,
          4.7,
          4.6,
          4.5,
          4.8,
          4.7,
          4.8,
          4.8,
          4.5,
          4.4,
          4.5,
          4.5,
          4.7,
          4.8,
          4.7,
          4.7,
          4.7,
          4.7,
          4.9,
          4.7,
          4.8,
          4.8,
          4.9,
          4.8,
          4.7,
          4.6,
          4.6,
          4.8,
          4.8,
          4.8,
          4.8,
          4.5,
          4.8,
          4.5,
          4.8,
          4.6,
          4.6,
          4.7,
          4.5,
          4.6,
          4.6,
          4.2,
          4.8,
          4.9,
          4.5,
          4.7,
          4.5,
          4.9,
          4.8,
          4.8,
          4.6,
          4.8,
          4.9,
          4.7,
          4.8,
          4.6,
          4.8,
          4.8,
          4.7,
          4.7,
          4.6,
          4.6,
          4.8,
          4.8,
          4.9,
          4.7,
          4.7,
          4.7,
          4.8,
          4.4,
          4.6,
          4.5,
          4.6,
          4.4,
          4.8,
          4.8,
          4.6,
          4.7,
          4.6,
          4.7,
          4.9,
          4.9,
          4.6,
          4.7,
          4.9,
          4.9,
          4.5,
          4.5,
          4.6,
          4.3,
          4.5,
          4.6,
          4.7,
          4.7,
          4.7,
          4.7,
          4.7,
          4.7,
          4.7,
          4.7,
          4.5,
          4.7,
          4.8,
          4.5,
          4.5,
          4.7,
          4.9,
          4.8,
          4.7,
          4.7,
          4.6,
          4.4,
          4.8,
          4.7,
          4.7,
          4.7,
          4.8,
          4.7,
          4.8,
          4.8,
          4.6,
          4.8,
          4.4,
          4.5,
          4.7,
          4.7,
          4.7,
          4.7,
          4.8,
          4.9,
          4.7,
          4.7,
          4.6,
          4.8,
          4.6,
          4.3,
          4.7,
          4.7,
          4.8,
          4.8,
          4.7,
          4.5,
          4.6,
          4.8,
          4.9,
          4.7,
          4.8,
          4.8,
          4.8,
          4.6,
          4.6,
          4.8,
          4.8,
          4.8,
          4.3,
          4.6,
          4.7,
          4.7,
          4.8,
          4.8,
          4.6,
          4.6,
          4.7,
          4.5,
          4.2,
          4.6,
          4.8,
          4.8,
          4.4,
          4.6,
          4.7,
          4.8,
          4.7,
          4.4,
          4.6,
          4.6,
          4.7,
          4.4,
          4.5,
          4.5,
          4.6,
          4.6,
          4.4,
          4.7,
          4.8,
          4.6,
          4.5,
          4.5,
          4.7,
          4.6,
          4.7,
          4.8,
          4.6,
          4.8,
          4.8,
          4.7,
          4.4,
          4.6,
          4.6,
          4.7,
          4.7,
          4.6,
          4.6,
          4.7,
          4.8,
          4.6,
          4.8,
          4.8,
          4.7,
          4.4,
          4.5,
          4.6,
          4.6,
          4.4,
          4.7,
          4.7,
          4.5,
          4.9,
          4.6,
          4.9,
          4.8,
          4.6,
          4.8,
          4.7,
          4.6,
          4.7,
          4.8,
          4.8,
          4.7,
          4.9,
          4.7,
          4.9,
          4.9,
          5,
          4.7,
          4.8,
          4.8,
          4.6,
          4.7,
          4.8,
          4.7,
          4.6,
          4.8,
          4.8,
          4.8,
          4.6,
          4.8,
          4.4,
          4.5,
          4.8,
          4.8,
          4.8,
          4.7,
          4.8,
          4.6,
          4.8,
          4.7,
          4.7,
          4.7,
          4.6,
          4.8,
          4.8,
          4.5,
          4.7,
          4.7,
          4.7,
          4.8,
          4.6,
          4.8,
          4.7,
          4.8,
          4.8,
          4.9,
          4.9,
          4.7,
          4.9,
          4.9,
          4.8,
          4.6,
          4.8,
          4.8,
          4.5,
          4.8,
          4.8,
          4.8,
          4.8,
          4.6,
          4.7,
          4.5,
          4.8,
          4.4,
          4.8,
          4.5,
          4.6,
          4.7,
          4.8,
          4.5,
          4.8,
          4.7,
          4.8,
          4.6,
          4.8,
          4.7,
          4.6,
          4.9,
          4.8,
          4.7,
          4.9,
          4.8,
          4.8,
          4.8,
          4.7,
          4.8,
          4.2,
          4.8,
          4.8,
          4.6,
          4.8,
          4.7,
          4.8,
          4.7,
          4.7,
          4.8,
          4.7,
          4.6,
          4.6,
          4.8,
          4.7,
          4.8,
          4.8,
          4.7,
          4.7,
          4.6,
          4.7,
          4.6,
          4.8,
          4.5,
          4.6,
          4.6,
          4.7,
          4.8,
          4.6,
          4.6,
          4.8,
          4.7,
          4.8,
          4.7,
          4.6,
          4.8,
          4.7,
          4.4,
          4.8,
          4.3,
          4.8,
          4.7,
          4.7,
          4.5,
          4.5,
          4.6,
          4.5,
          4.6,
          4.9,
          4.6,
          4.7,
          4.5,
          4.6,
          4.6,
          4.6,
          4.8,
          4.8,
          4.6,
          4.6,
          4.7,
          4.7,
          4.8,
          4.7,
          4.7,
          4.8,
          4.6,
          4.8,
          4.7,
          4.8,
          4.7,
          4.8,
          4.2,
          4.6,
          4.5,
          4.5,
          4.7,
          4.4,
          4.6,
          4.8,
          4.7,
          4.6,
          4.8,
          3.3,
          4.1,
          4.7,
          4.6,
          4.4,
          4.6,
          4.8,
          4.6,
          4.5,
          4.8,
          4.9,
          4.7,
          4.6,
          4.7,
          4.9,
          4.4,
          4.9,
          4.8,
          4.5,
          5,
          4.4,
          4.8,
          4.6,
          4.6,
          4.7,
          4.7,
          4.6,
          4.8,
          4.8,
          4.5,
          4.7,
          4.8,
          4.2,
          4.6,
          4.8,
          4.8,
          4.5,
          4.6,
          4.5,
          4.4,
          4.8,
          4.8,
          4.8,
          4.8,
          4.6,
          4.8,
          4.5,
          4.9,
          4.6,
          4.7,
          4.8,
          4.6,
          4.7,
          4.4,
          4.8,
          4.8,
          4.7,
          4.6,
          4.7,
          4.9,
          4.7,
          4.8,
          4.8,
          4.8,
          4.9,
          4.6,
          4.3,
          4.3,
          4.6,
          4.7,
          4.7,
          4.5,
          4.7,
          4.6,
          4.5,
          4.8,
          4.4,
          4.7,
          4.5,
          4.7,
          4.8,
          4.7,
          4.9,
          4.8,
          4.8,
          4.6,
          4.7,
          4.5,
          4.8,
          4.8,
          4.8,
          4.8,
          4.5,
          4.4,
          4.6,
          4.8,
          4.7,
          4.7,
          4.8,
          4.9,
          4.7,
          4.8,
          4.2,
          4.7,
          4.8,
          4.8,
          4.7,
          4.7,
          4.8,
          4,
          4.8,
          4.5,
          4.8,
          4.7,
          4.8,
          4.7,
          4.9,
          4.9,
          4.7,
          4.6,
          4.5,
          4.6,
          4.6,
          4.6,
          4.5,
          4.7,
          4.7,
          4.6,
          4.7,
          4.7,
          4.8,
          4.7,
          4.7,
          4.8,
          4.8,
          4.3,
          4.5,
          4.8,
          4.7,
          4.8,
          4.6,
          4.6,
          4.8,
          4.9,
          4.7,
          4.5,
          4.7,
          4.8,
          4.6,
          4.7,
          4.6,
          4.9,
          4.6,
          3.7,
          4.6,
          4.6,
          3.9,
          4.7,
          4.5,
          4.6,
          4.7,
          4.7,
          4.9,
          4.7,
          4.7,
          4.7,
          4.5,
          4.6,
          4.5,
          4.8,
          4.7,
          4.7,
          4.6,
          4.4,
          4.8,
          4.4,
          4.7,
          4.2,
          4.6,
          4.3,
          4.7,
          4.5,
          4.6,
          4.7,
          4.7,
          4,
          4.8,
          4.9,
          4.3,
          4.6,
          4.9,
          4.7,
          4.8,
          4.7,
          4.8,
          4.6,
          4.7,
          4.8,
          4.7,
          4.7,
          4.8,
          4.9,
          4.9,
          4.8,
          4.8,
          4.9,
          4.8,
          4.8,
          4.6,
          4.8,
          4.7,
          4.8,
          4.7,
          4.9,
          4.7,
          4.7,
          4.8,
          4.8,
          4.8,
          4.7,
          4.6,
          4.7,
          4.7,
          4.8,
          4.4,
          4.6,
          4.7,
          4.2,
          4.7,
          4.7,
          4.8,
          4.6,
          4.5,
          4.5,
          4.8,
          4.6,
          4.5,
          4.7,
          4.9,
          4.7,
          4.7,
          4.7,
          4.8,
          4.7,
          4.8,
          4.8,
          4.6,
          4.8,
          4.7,
          4.6,
          4.7,
          4.8,
          4.6,
          4.8,
          4.8,
          4.8,
          4.7,
          4.6,
          4.8,
          4.6,
          4.7,
          4.8,
          4.6,
          4.2,
          4.7,
          4.6,
          4.7,
          4.8,
          4.6,
          4.8,
          4.7,
          4.9,
          4.8,
          4.4,
          4.6,
          4.8,
          4.7,
          4.9,
          4.6,
          4.8,
          4.3,
          4.7,
          4.7,
          4.7,
          4.7,
          4.6,
          4.6,
          4.8,
          4.5,
          4.9,
          4.9,
          4.4,
          4.9,
          4.7,
          4.7,
          4.5,
          4.8,
          4.6,
          4.6,
          4.4,
          4.7,
          4.8,
          4.5,
          4.8,
          4.8,
          4.7,
          4.4,
          4.7,
          4.7,
          4.7,
          4.8,
          4.8,
          4.7,
          4.5,
          4.7,
          4.7,
          4.8,
          4.6,
          4.6,
          4.6,
          4.6,
          4.8,
          4.7,
          4.8,
          4.6,
          4.6,
          4.7,
          4.6,
          4.8,
          4.8,
          4.9,
          4.8,
          4.6,
          4.6,
          4.7,
          4.8,
          4.7,
          4.7,
          4.7,
          4.6,
          4.7,
          4.9,
          4.3,
          4.7,
          4.7,
          4.7,
          4.7,
          4.5,
          4.8,
          4.6,
          4.8,
          4.8,
          4.8,
          4.8,
          4.7,
          4.6,
          4.7,
          4.7,
          4.8,
          4.6,
          4.8,
          4.3,
          4.6,
          4.5,
          4.7,
          4.4,
          4.9,
          4.9,
          4.9,
          4.9,
          4.4,
          4.8,
          4.8,
          4.8,
          4.7,
          4.5,
          4.8,
          4.6,
          4.8,
          4.7,
          4.5,
          4.7,
          4.6,
          4.8,
          4.7,
          4.8,
          4.8,
          4.6,
          4.8,
          4.8,
          4.9,
          4.6,
          4.8,
          4.8,
          4.9,
          4.6,
          4.7,
          4.6,
          4.6,
          4.7,
          4.8,
          4.9,
          4.9,
          4.8,
          4.6,
          4.5,
          4.8,
          4.7,
          4.8,
          4.7,
          4.7,
          4.6,
          4.6,
          4.3,
          4.8,
          4.7,
          4.9,
          4.8,
          4.6,
          4.7,
          4.8,
          4.8,
          4.8,
          4.9,
          4.8,
          4.4,
          4.8,
          4.5,
          4.7,
          4.9,
          4.5,
          4.2,
          4.8,
          4.9,
          4.8,
          4.6,
          4.8,
          4.8,
          4.7,
          4.7,
          4.8,
          4.7,
          4.7,
          4.3,
          4.8,
          4.8,
          4.7,
          4.7,
          4.7,
          4.7,
          4.8,
          4.7,
          4.6,
          4.7,
          4.8,
          4.9,
          4.7,
          4.4,
          4.9,
          4.5,
          3.9,
          4.7,
          4.8,
          4.5,
          4.6,
          4.9,
          4.5,
          4.8,
          4.7,
          4.5,
          4.6,
          4.9,
          4.7,
          4.5,
          4.8,
          4.5,
          4.6,
          4.7
         ],
         "xaxis": "x",
         "yaxis": "y"
        }
       ],
       "layout": {
        "barmode": "relative",
        "height": 500,
        "legend": {
         "tracegroupgap": 0
        },
        "margin": {
         "t": 60
        },
        "template": {
         "data": {
          "bar": [
           {
            "error_x": {
             "color": "#2a3f5f"
            },
            "error_y": {
             "color": "#2a3f5f"
            },
            "marker": {
             "line": {
              "color": "white",
              "width": 0.5
             },
             "pattern": {
              "fillmode": "overlay",
              "size": 10,
              "solidity": 0.2
             }
            },
            "type": "bar"
           }
          ],
          "barpolar": [
           {
            "marker": {
             "line": {
              "color": "white",
              "width": 0.5
             },
             "pattern": {
              "fillmode": "overlay",
              "size": 10,
              "solidity": 0.2
             }
            },
            "type": "barpolar"
           }
          ],
          "carpet": [
           {
            "aaxis": {
             "endlinecolor": "#2a3f5f",
             "gridcolor": "#C8D4E3",
             "linecolor": "#C8D4E3",
             "minorgridcolor": "#C8D4E3",
             "startlinecolor": "#2a3f5f"
            },
            "baxis": {
             "endlinecolor": "#2a3f5f",
             "gridcolor": "#C8D4E3",
             "linecolor": "#C8D4E3",
             "minorgridcolor": "#C8D4E3",
             "startlinecolor": "#2a3f5f"
            },
            "type": "carpet"
           }
          ],
          "choropleth": [
           {
            "colorbar": {
             "outlinewidth": 0,
             "ticks": ""
            },
            "type": "choropleth"
           }
          ],
          "contour": [
           {
            "colorbar": {
             "outlinewidth": 0,
             "ticks": ""
            },
            "colorscale": [
             [
              0,
              "#0d0887"
             ],
             [
              0.1111111111111111,
              "#46039f"
             ],
             [
              0.2222222222222222,
              "#7201a8"
             ],
             [
              0.3333333333333333,
              "#9c179e"
             ],
             [
              0.4444444444444444,
              "#bd3786"
             ],
             [
              0.5555555555555556,
              "#d8576b"
             ],
             [
              0.6666666666666666,
              "#ed7953"
             ],
             [
              0.7777777777777778,
              "#fb9f3a"
             ],
             [
              0.8888888888888888,
              "#fdca26"
             ],
             [
              1,
              "#f0f921"
             ]
            ],
            "type": "contour"
           }
          ],
          "contourcarpet": [
           {
            "colorbar": {
             "outlinewidth": 0,
             "ticks": ""
            },
            "type": "contourcarpet"
           }
          ],
          "heatmap": [
           {
            "colorbar": {
             "outlinewidth": 0,
             "ticks": ""
            },
            "colorscale": [
             [
              0,
              "#0d0887"
             ],
             [
              0.1111111111111111,
              "#46039f"
             ],
             [
              0.2222222222222222,
              "#7201a8"
             ],
             [
              0.3333333333333333,
              "#9c179e"
             ],
             [
              0.4444444444444444,
              "#bd3786"
             ],
             [
              0.5555555555555556,
              "#d8576b"
             ],
             [
              0.6666666666666666,
              "#ed7953"
             ],
             [
              0.7777777777777778,
              "#fb9f3a"
             ],
             [
              0.8888888888888888,
              "#fdca26"
             ],
             [
              1,
              "#f0f921"
             ]
            ],
            "type": "heatmap"
           }
          ],
          "heatmapgl": [
           {
            "colorbar": {
             "outlinewidth": 0,
             "ticks": ""
            },
            "colorscale": [
             [
              0,
              "#0d0887"
             ],
             [
              0.1111111111111111,
              "#46039f"
             ],
             [
              0.2222222222222222,
              "#7201a8"
             ],
             [
              0.3333333333333333,
              "#9c179e"
             ],
             [
              0.4444444444444444,
              "#bd3786"
             ],
             [
              0.5555555555555556,
              "#d8576b"
             ],
             [
              0.6666666666666666,
              "#ed7953"
             ],
             [
              0.7777777777777778,
              "#fb9f3a"
             ],
             [
              0.8888888888888888,
              "#fdca26"
             ],
             [
              1,
              "#f0f921"
             ]
            ],
            "type": "heatmapgl"
           }
          ],
          "histogram": [
           {
            "marker": {
             "pattern": {
              "fillmode": "overlay",
              "size": 10,
              "solidity": 0.2
             }
            },
            "type": "histogram"
           }
          ],
          "histogram2d": [
           {
            "colorbar": {
             "outlinewidth": 0,
             "ticks": ""
            },
            "colorscale": [
             [
              0,
              "#0d0887"
             ],
             [
              0.1111111111111111,
              "#46039f"
             ],
             [
              0.2222222222222222,
              "#7201a8"
             ],
             [
              0.3333333333333333,
              "#9c179e"
             ],
             [
              0.4444444444444444,
              "#bd3786"
             ],
             [
              0.5555555555555556,
              "#d8576b"
             ],
             [
              0.6666666666666666,
              "#ed7953"
             ],
             [
              0.7777777777777778,
              "#fb9f3a"
             ],
             [
              0.8888888888888888,
              "#fdca26"
             ],
             [
              1,
              "#f0f921"
             ]
            ],
            "type": "histogram2d"
           }
          ],
          "histogram2dcontour": [
           {
            "colorbar": {
             "outlinewidth": 0,
             "ticks": ""
            },
            "colorscale": [
             [
              0,
              "#0d0887"
             ],
             [
              0.1111111111111111,
              "#46039f"
             ],
             [
              0.2222222222222222,
              "#7201a8"
             ],
             [
              0.3333333333333333,
              "#9c179e"
             ],
             [
              0.4444444444444444,
              "#bd3786"
             ],
             [
              0.5555555555555556,
              "#d8576b"
             ],
             [
              0.6666666666666666,
              "#ed7953"
             ],
             [
              0.7777777777777778,
              "#fb9f3a"
             ],
             [
              0.8888888888888888,
              "#fdca26"
             ],
             [
              1,
              "#f0f921"
             ]
            ],
            "type": "histogram2dcontour"
           }
          ],
          "mesh3d": [
           {
            "colorbar": {
             "outlinewidth": 0,
             "ticks": ""
            },
            "type": "mesh3d"
           }
          ],
          "parcoords": [
           {
            "line": {
             "colorbar": {
              "outlinewidth": 0,
              "ticks": ""
             }
            },
            "type": "parcoords"
           }
          ],
          "pie": [
           {
            "automargin": true,
            "type": "pie"
           }
          ],
          "scatter": [
           {
            "fillpattern": {
             "fillmode": "overlay",
             "size": 10,
             "solidity": 0.2
            },
            "type": "scatter"
           }
          ],
          "scatter3d": [
           {
            "line": {
             "colorbar": {
              "outlinewidth": 0,
              "ticks": ""
             }
            },
            "marker": {
             "colorbar": {
              "outlinewidth": 0,
              "ticks": ""
             }
            },
            "type": "scatter3d"
           }
          ],
          "scattercarpet": [
           {
            "marker": {
             "colorbar": {
              "outlinewidth": 0,
              "ticks": ""
             }
            },
            "type": "scattercarpet"
           }
          ],
          "scattergeo": [
           {
            "marker": {
             "colorbar": {
              "outlinewidth": 0,
              "ticks": ""
             }
            },
            "type": "scattergeo"
           }
          ],
          "scattergl": [
           {
            "marker": {
             "colorbar": {
              "outlinewidth": 0,
              "ticks": ""
             }
            },
            "type": "scattergl"
           }
          ],
          "scattermapbox": [
           {
            "marker": {
             "colorbar": {
              "outlinewidth": 0,
              "ticks": ""
             }
            },
            "type": "scattermapbox"
           }
          ],
          "scatterpolar": [
           {
            "marker": {
             "colorbar": {
              "outlinewidth": 0,
              "ticks": ""
             }
            },
            "type": "scatterpolar"
           }
          ],
          "scatterpolargl": [
           {
            "marker": {
             "colorbar": {
              "outlinewidth": 0,
              "ticks": ""
             }
            },
            "type": "scatterpolargl"
           }
          ],
          "scatterternary": [
           {
            "marker": {
             "colorbar": {
              "outlinewidth": 0,
              "ticks": ""
             }
            },
            "type": "scatterternary"
           }
          ],
          "surface": [
           {
            "colorbar": {
             "outlinewidth": 0,
             "ticks": ""
            },
            "colorscale": [
             [
              0,
              "#0d0887"
             ],
             [
              0.1111111111111111,
              "#46039f"
             ],
             [
              0.2222222222222222,
              "#7201a8"
             ],
             [
              0.3333333333333333,
              "#9c179e"
             ],
             [
              0.4444444444444444,
              "#bd3786"
             ],
             [
              0.5555555555555556,
              "#d8576b"
             ],
             [
              0.6666666666666666,
              "#ed7953"
             ],
             [
              0.7777777777777778,
              "#fb9f3a"
             ],
             [
              0.8888888888888888,
              "#fdca26"
             ],
             [
              1,
              "#f0f921"
             ]
            ],
            "type": "surface"
           }
          ],
          "table": [
           {
            "cells": {
             "fill": {
              "color": "#EBF0F8"
             },
             "line": {
              "color": "white"
             }
            },
            "header": {
             "fill": {
              "color": "#C8D4E3"
             },
             "line": {
              "color": "white"
             }
            },
            "type": "table"
           }
          ]
         },
         "layout": {
          "annotationdefaults": {
           "arrowcolor": "#2a3f5f",
           "arrowhead": 0,
           "arrowwidth": 1
          },
          "autotypenumbers": "strict",
          "coloraxis": {
           "colorbar": {
            "outlinewidth": 0,
            "ticks": ""
           }
          },
          "colorscale": {
           "diverging": [
            [
             0,
             "#8e0152"
            ],
            [
             0.1,
             "#c51b7d"
            ],
            [
             0.2,
             "#de77ae"
            ],
            [
             0.3,
             "#f1b6da"
            ],
            [
             0.4,
             "#fde0ef"
            ],
            [
             0.5,
             "#f7f7f7"
            ],
            [
             0.6,
             "#e6f5d0"
            ],
            [
             0.7,
             "#b8e186"
            ],
            [
             0.8,
             "#7fbc41"
            ],
            [
             0.9,
             "#4d9221"
            ],
            [
             1,
             "#276419"
            ]
           ],
           "sequential": [
            [
             0,
             "#0d0887"
            ],
            [
             0.1111111111111111,
             "#46039f"
            ],
            [
             0.2222222222222222,
             "#7201a8"
            ],
            [
             0.3333333333333333,
             "#9c179e"
            ],
            [
             0.4444444444444444,
             "#bd3786"
            ],
            [
             0.5555555555555556,
             "#d8576b"
            ],
            [
             0.6666666666666666,
             "#ed7953"
            ],
            [
             0.7777777777777778,
             "#fb9f3a"
            ],
            [
             0.8888888888888888,
             "#fdca26"
            ],
            [
             1,
             "#f0f921"
            ]
           ],
           "sequentialminus": [
            [
             0,
             "#0d0887"
            ],
            [
             0.1111111111111111,
             "#46039f"
            ],
            [
             0.2222222222222222,
             "#7201a8"
            ],
            [
             0.3333333333333333,
             "#9c179e"
            ],
            [
             0.4444444444444444,
             "#bd3786"
            ],
            [
             0.5555555555555556,
             "#d8576b"
            ],
            [
             0.6666666666666666,
             "#ed7953"
            ],
            [
             0.7777777777777778,
             "#fb9f3a"
            ],
            [
             0.8888888888888888,
             "#fdca26"
            ],
            [
             1,
             "#f0f921"
            ]
           ]
          },
          "colorway": [
           "#636efa",
           "#EF553B",
           "#00cc96",
           "#ab63fa",
           "#FFA15A",
           "#19d3f3",
           "#FF6692",
           "#B6E880",
           "#FF97FF",
           "#FECB52"
          ],
          "font": {
           "color": "#2a3f5f"
          },
          "geo": {
           "bgcolor": "white",
           "lakecolor": "white",
           "landcolor": "white",
           "showlakes": true,
           "showland": true,
           "subunitcolor": "#C8D4E3"
          },
          "hoverlabel": {
           "align": "left"
          },
          "hovermode": "closest",
          "mapbox": {
           "style": "light"
          },
          "paper_bgcolor": "white",
          "plot_bgcolor": "white",
          "polar": {
           "angularaxis": {
            "gridcolor": "#EBF0F8",
            "linecolor": "#EBF0F8",
            "ticks": ""
           },
           "bgcolor": "white",
           "radialaxis": {
            "gridcolor": "#EBF0F8",
            "linecolor": "#EBF0F8",
            "ticks": ""
           }
          },
          "scene": {
           "xaxis": {
            "backgroundcolor": "white",
            "gridcolor": "#DFE8F3",
            "gridwidth": 2,
            "linecolor": "#EBF0F8",
            "showbackground": true,
            "ticks": "",
            "zerolinecolor": "#EBF0F8"
           },
           "yaxis": {
            "backgroundcolor": "white",
            "gridcolor": "#DFE8F3",
            "gridwidth": 2,
            "linecolor": "#EBF0F8",
            "showbackground": true,
            "ticks": "",
            "zerolinecolor": "#EBF0F8"
           },
           "zaxis": {
            "backgroundcolor": "white",
            "gridcolor": "#DFE8F3",
            "gridwidth": 2,
            "linecolor": "#EBF0F8",
            "showbackground": true,
            "ticks": "",
            "zerolinecolor": "#EBF0F8"
           }
          },
          "shapedefaults": {
           "line": {
            "color": "#2a3f5f"
           }
          },
          "ternary": {
           "aaxis": {
            "gridcolor": "#DFE8F3",
            "linecolor": "#A2B1C6",
            "ticks": ""
           },
           "baxis": {
            "gridcolor": "#DFE8F3",
            "linecolor": "#A2B1C6",
            "ticks": ""
           },
           "bgcolor": "white",
           "caxis": {
            "gridcolor": "#DFE8F3",
            "linecolor": "#A2B1C6",
            "ticks": ""
           }
          },
          "title": {
           "x": 0.05
          },
          "xaxis": {
           "automargin": true,
           "gridcolor": "#EBF0F8",
           "linecolor": "#EBF0F8",
           "ticks": "",
           "title": {
            "standoff": 15
           },
           "zerolinecolor": "#EBF0F8",
           "zerolinewidth": 2
          },
          "yaxis": {
           "automargin": true,
           "gridcolor": "#EBF0F8",
           "linecolor": "#EBF0F8",
           "ticks": "",
           "title": {
            "standoff": 15
           },
           "zerolinecolor": "#EBF0F8",
           "zerolinewidth": 2
          }
         }
        },
        "title": {
         "font": {
          "size": 22
         },
         "text": "Distribution of courses by ratings",
         "x": 0.5,
         "xanchor": "center",
         "y": 0.95,
         "yanchor": "top"
        },
        "width": 800,
        "xaxis": {
         "anchor": "y",
         "domain": [
          0,
          1
         ],
         "title": {
          "text": "Course rating"
         }
        },
        "yaxis": {
         "anchor": "x",
         "domain": [
          0,
          1
         ],
         "title": {
          "text": "Number of courses"
         }
        }
       }
      }
     },
     "metadata": {},
     "output_type": "display_data"
    }
   ],
   "source": [
    "fig = px.histogram(df, x='course_rating', color_discrete_sequence=['#1F77B4'], nbins=20)\n",
    "fig.update_layout(\n",
    "    title={\n",
    "        'text': 'Distribution of courses by ratings',\n",
    "        'y':0.95, \n",
    "        'x':0.5,   \n",
    "        'xanchor': 'center',\n",
    "        'yanchor': 'top',\n",
    "        'font': {'size': 22}  \n",
    "    },\n",
    "    xaxis_title='Course rating',\n",
    "    yaxis_title='Number of courses',\n",
    "    template='plotly_white',\n",
    "    width=800,\n",
    "    height=500)\n",
    "\n",
    "fig.show()"
   ]
  },
  {
   "cell_type": "markdown",
   "metadata": {},
   "source": [
    "The course ratings on Coursera range from 3.3 to 5.0. The majority of courses, over 50 in each bin, fall within the 4.5 to 4.9 range. The most common rating is 4.8, with 256 courses achieving this score"
   ]
  },
  {
   "cell_type": "markdown",
   "metadata": {},
   "source": [
    "### Courses by difficulty level"
   ]
  },
  {
   "cell_type": "code",
   "execution_count": 208,
   "metadata": {},
   "outputs": [
    {
     "data": {
      "image/png": "[encoded data removed]",
      "text/plain": [
       "<Figure size 900x500 with 1 Axes>"
      ]
     },
     "metadata": {},
     "output_type": "display_data"
    }
   ],
   "source": [
    "plt.figure(figsize=(9, 5))\n",
    "bars = sns.countplot(x='course_difficulty', data=df, color='lightslategrey')\n",
    "bars.patches[0].set_facecolor('#1F77B4')\n",
    "plt.title(\"Courses by difficulty level\", fontsize=18, alpha=0.8)\n",
    "plt.xlabel('')\n",
    "plt.ylabel('')\n",
    "plt.yticks([])\n",
    "for spine in plt.gca().spines.values():\n",
    "    spine.set_visible(False)\n",
    "plt.ylim(0, 550)\n",
    "total = len(df)\n",
    "for bar in bars.patches:\n",
    "    height = bar.get_height()\n",
    "    percentage = f\"{height / total * 100:.1f}%\"\n",
    "    label = f\"{int(height)}\\n({percentage})\"  # Convert count to whole number\n",
    "    plt.gca().text(bar.get_x() + bar.get_width() / 2, height + height * 0.02, label,\n",
    "               ha='center', color='teal', fontsize=14)\n",
    "plt.show()"
   ]
  },
  {
   "cell_type": "markdown",
   "metadata": {},
   "source": [
    "More than half of the courses offered on Coursera, specifically 54.7%, are designed for beginners. Intermediate and mixed-level courses account for 22.2% and 21% respectively, each representing a significant portion of the catalog. In contrast, advanced-level courses constitute just 2.1% of the total offerings."
   ]
  },
  {
   "cell_type": "markdown",
   "metadata": {},
   "source": [
    "Courses offered in each category"
   ]
  },
  {
   "cell_type": "code",
   "execution_count": 176,
   "metadata": {},
   "outputs": [
    {
     "name": "stdout",
     "output_type": "stream",
     "text": [
      "Total students enrolled by course difficulty:\n",
      "                  Total Students Percentage of Total\n",
      "course_difficulty                                   \n",
      "Advanced            1.26 million               1.57%\n",
      "Intermediate       14.51 million              17.98%\n",
      "Mixed              24.99 million              30.97%\n",
      "Beginner           39.92 million              49.48%\n"
     ]
    }
   ],
   "source": [
    "total_students_by_difficulty = df.groupby('course_difficulty')['course_students_enrolled'].sum().sort_values()\n",
    "total_students = total_students_by_difficulty.sum()\n",
    "percentage_of_total = total_students_by_difficulty / total_students * 100\n",
    "total_students_with_percentage = total_students_by_difficulty.to_frame(name='Total Students')\n",
    "total_students_with_percentage['Percentage of Total'] = percentage_of_total.apply(lambda x: f\"{x:.2f}%\")\n",
    "total_students_with_percentage['Total Students'] = total_students_with_percentage['Total Students'].apply(lambda x: f\"{x / 1e6:.2f} million\")\n",
    "print(\"Total students enrolled by course difficulty:\")\n",
    "print(total_students_with_percentage)"
   ]
  },
  {
   "cell_type": "markdown",
   "metadata": {},
   "source": [
    "Over 49% of students enrolled on the beginner course level, following mixed difficulty with almost 31%. Only 1.6% of students have been enrolled to advanced couses."
   ]
  },
  {
   "cell_type": "markdown",
   "metadata": {},
   "source": [
    "### Course difficulty estimations"
   ]
  },
  {
   "cell_type": "code",
   "execution_count": 128,
   "metadata": {},
   "outputs": [
    {
     "name": "stdout",
     "output_type": "stream",
     "text": [
      "Average rating by course difficulty:\n",
      "course_difficulty\n",
      "Advanced        4.60\n",
      "Intermediate    4.65\n",
      "Beginner        4.68\n",
      "Mixed           4.71\n",
      "Name: course_rating, dtype: object\n"
     ]
    }
   ],
   "source": [
    "avg_rating_by_difficulty = df.groupby('course_difficulty')['course_rating'].mean().sort_values()\n",
    "avg_rating_by_difficulty = avg_rating_by_difficulty.apply(lambda x: f\"{x:.2f}\")\n",
    "print(\"Average rating by course difficulty:\")\n",
    "print(avg_rating_by_difficulty)"
   ]
  },
  {
   "cell_type": "code",
   "execution_count": 129,
   "metadata": {},
   "outputs": [
    {
     "data": {
      "text/plain": [
       "Text(0.5, 0, '')"
      ]
     },
     "execution_count": 129,
     "metadata": {},
     "output_type": "execute_result"
    },
    {
     "data": {
      "image/png": "[encoded data removed]",
      "text/plain": [
       "<Figure size 800x400 with 1 Axes>"
      ]
     },
     "metadata": {},
     "output_type": "display_data"
    }
   ],
   "source": [
    "fig = plt.figure(figsize=(8,4)) \n",
    "ax = fig.gca() \n",
    "sns.set_style(\"whitegrid\")\n",
    "sns.violinplot(x = 'course_difficulty', y = 'course_rating', data = df, ax = ax)\n",
    "ax.set_title('Violine plots of course ratings by difficulty type') \n",
    "ax.set_ylabel('Course rating')\n",
    "plt.xlabel('')"
   ]
  },
  {
   "cell_type": "markdown",
   "metadata": {},
   "source": [
    "Courses at advance and intermediate level rated lower than mean rating, while mixed level course have the highest average rating 4.71. At the same time mixed courses have the widest variability in ratings. In general, students rated slightly lower than courses for beginners."
   ]
  },
  {
   "cell_type": "markdown",
   "metadata": {},
   "source": [
    "### Students by certificate type"
   ]
  },
  {
   "cell_type": "code",
   "execution_count": null,
   "metadata": {},
   "outputs": [
    {
     "name": "stdout",
     "output_type": "stream",
     "text": [
      "Number of students by certificate type:\n",
      "                         Total Students Percentage of Total\n",
      "course_Certificate_type                                    \n",
      "PROFESSIONAL CERTIFICATE   2.29 million               2.84%\n",
      "SPECIALIZATION            27.26 million              33.79%\n",
      "COURSE                    51.13 million              63.37%\n"
     ]
    }
   ],
   "source": [
    "students_by_certificate = df.groupby('course_Certificate_type')['course_students_enrolled'].sum().sort_values()\n",
    "total_students_cert = students_by_certificate.sum()\n",
    "percentage_of_total_cert = students_by_certificate / total_students_cert * 100\n",
    "students_with_percentage = students_by_certificate.to_frame(name='Total Students')\n",
    "students_with_percentage['Percentage of Total'] = percentage_of_total_cert.apply(lambda x: f\"{x:.2f}%\")\n",
    "students_with_percentage['Total Students'] = students_with_percentage['Total Students'].apply(lambda x: f\"{x / 1e6:.2f} million\")\n",
    "print(\"Number of students by certificate type:\")\n",
    "print(students_with_percentage)"
   ]
  },
  {
   "cell_type": "markdown",
   "metadata": {},
   "source": [
    "Over 51 millions of students chose the course based on 'course' certificate type. Professional certificate recevied only 2.84% of students. Over on third of students received certification in specialization (almost 27.3m). "
   ]
  },
  {
   "cell_type": "markdown",
   "metadata": {},
   "source": [
    "#### Course rating at the level of certificate type"
   ]
  },
  {
   "cell_type": "code",
   "execution_count": 130,
   "metadata": {},
   "outputs": [
    {
     "name": "stdout",
     "output_type": "stream",
     "text": [
      "Average rating by certificate type:\n",
      "course_Certificate_type\n",
      "SPECIALIZATION              4.62\n",
      "PROFESSIONAL CERTIFICATE    4.70\n",
      "COURSE                      4.71\n",
      "Name: course_rating, dtype: object\n"
     ]
    }
   ],
   "source": [
    "avg_rating_by_type = df.groupby('course_Certificate_type')['course_rating'].mean().sort_values()\n",
    "avg_rating_by_type = avg_rating_by_type.apply(lambda x: f\"{x:.2f}\")\n",
    "print(\"Average rating by certificate type:\")\n",
    "print(avg_rating_by_type)"
   ]
  },
  {
   "cell_type": "code",
   "execution_count": 131,
   "metadata": {},
   "outputs": [
    {
     "data": {
      "image/png": "[encoded data removed]",
      "text/plain": [
       "<Figure size 1000x600 with 1 Axes>"
      ]
     },
     "metadata": {},
     "output_type": "display_data"
    }
   ],
   "source": [
    "plt.figure(figsize=(10,6))\n",
    "sns.boxplot(x='course_Certificate_type', y='course_rating', data=df)\n",
    "plt.title(\"Course ratings by certificate type\")\n",
    "plt.xlabel('')\n",
    "plt.ylabel(\"Course rating\")\n",
    "plt.show()"
   ]
  },
  {
   "cell_type": "markdown",
   "metadata": {},
   "source": [
    "Om average course type rated higher among others but very close to professional certificate 4.7."
   ]
  },
  {
   "cell_type": "markdown",
   "metadata": {},
   "source": [
    "Course difficulty by certificate type"
   ]
  },
  {
   "cell_type": "code",
   "execution_count": 165,
   "metadata": {},
   "outputs": [
    {
     "data": {
      "image/png": "[encoded data removed]",
      "text/plain": [
       "<Figure size 900x600 with 1 Axes>"
      ]
     },
     "metadata": {},
     "output_type": "display_data"
    }
   ],
   "source": [
    "difficulty_cert_type = df.groupby(['course_difficulty', 'course_Certificate_type']).size().unstack(fill_value=0)\n",
    "difficulty_cert_type_percentage = difficulty_cert_type.div(difficulty_cert_type.sum(axis=1), axis=0) * 100\n",
    "colors = ['#1F77B4', '#decea6', '#abb9c4']  \n",
    "fig, ax = plt.subplots(figsize=(9, 6) )\n",
    "\n",
    "\n",
    "# Plot each level of the stack\n",
    "for i, cert_type in enumerate(difficulty_cert_type_percentage.columns):\n",
    "    ax.barh(difficulty_cert_type_percentage.index, difficulty_cert_type_percentage[cert_type], \n",
    "            left=difficulty_cert_type_percentage.iloc[:, :i].sum(axis=1), label=cert_type,  color=colors[i])\n",
    "\n",
    "# Adding labels in the center of each bar segment\n",
    "for index, row in difficulty_cert_type_percentage.iterrows():\n",
    "    cumulative_sum = 0\n",
    "    for i, (cert_type, value) in enumerate(row.items()):\n",
    "        if value > 0: \n",
    "            cumulative_sum += value / 2\n",
    "            ax.text(cumulative_sum, index, f'{value:.1f}%', ha='center', va='center')\n",
    "            cumulative_sum += value / 2\n",
    "\n",
    "ax.set_title('Course difficulty by certificate type, %', fontsize=20)\n",
    "ax.set_xlabel(' ')\n",
    "legend = ax.legend(title='Certificate type', loc='upper center', bbox_to_anchor=(0.5, -0.1), ncol=3, fontsize=10, title_fontsize=10)\n",
    "legend.get_frame().set_linewidth(0)  # Remove the legend frame\n",
    "ax.grid(False)\n",
    "ax.spines[['top', 'right', 'left', 'bottom']].set_visible(False)\n",
    "plt.show() "
   ]
  },
  {
   "cell_type": "markdown",
   "metadata": {},
   "source": [
    "Beginner and Intermediate courses provide a range of certifications with the majority to \"course\" type (57.9% and 52.5%). Courses with mixed difficulty provide only the \"course\" type of certification. Advanced-level courses don't provide professional certificates, aiming at a specialization 52.6% out of all courses."
   ]
  },
  {
   "cell_type": "markdown",
   "metadata": {},
   "source": [
    "### Relationship between students enrolled and course rating"
   ]
  },
  {
   "cell_type": "code",
   "execution_count": null,
   "metadata": {},
   "outputs": [
    {
     "data": {
      "text/plain": [
       "<Axes: xlabel='course_rating', ylabel='course_students_enrolled'>"
      ]
     },
     "metadata": {},
     "output_type": "display_data"
    },
    {
     "data": {
      "image/png": "[encoded data removed]",
      "text/plain": [
       "<Figure size 800x500 with 1 Axes>"
      ]
     },
     "metadata": {},
     "output_type": "display_data"
    }
   ],
   "source": [
    "sns.scatterplot(x=df['course_rating'], y=df['course_students_enrolled'])"
   ]
  },
  {
   "cell_type": "markdown",
   "metadata": {},
   "source": [
    "Students enrolled vs. Course rating by difficulty level"
   ]
  },
  {
   "cell_type": "code",
   "execution_count": 137,
   "metadata": {},
   "outputs": [
    {
     "data": {
      "image/png": "[encoded data removed]",
      "text/plain": [
       "<Figure size 1500x1000 with 4 Axes>"
      ]
     },
     "metadata": {},
     "output_type": "display_data"
    }
   ],
   "source": [
    "g = sns.FacetGrid(df, col=\"course_difficulty\", col_wrap=2, height=5, aspect=1.5)\n",
    "g.map(sns.scatterplot, 'course_rating', 'course_students_enrolled', alpha=0.5)\n",
    "for ax in g.axes.flat:\n",
    "    ax.set_yscale('log')\n",
    "g.set_titles(col_template=\"{col_name} difficulty\")\n",
    "g.set_axis_labels(\"Course rating\", \"Students enrolled (Log scale)\")\n",
    "plt.show()"
   ]
  },
  {
   "cell_type": "code",
   "execution_count": 139,
   "metadata": {},
   "outputs": [
    {
     "data": {
      "image/png": "[encoded data removed]",
      "text/plain": [
       "<Figure size 700x700 with 3 Axes>"
      ]
     },
     "metadata": {},
     "output_type": "display_data"
    }
   ],
   "source": [
    "sns.jointplot(x='course_rating', y='course_students_enrolled', data=df, kind='scatter', height=7, marginal_kws=dict(bins=40, fill=True))\n",
    "plt.yscale('log')\n",
    "plt.suptitle(\"Students enrolled vs. Course rating (log scale)\", y=1.02)\n",
    "plt.xlabel(\"Course rating\")\n",
    "plt.ylabel(\"Students enrolled (Log scale)\")\n",
    "plt.show()\n"
   ]
  },
  {
   "cell_type": "markdown",
   "metadata": {},
   "source": [
    "### Correlation analysis between numeric columns"
   ]
  },
  {
   "cell_type": "code",
   "execution_count": 184,
   "metadata": {},
   "outputs": [
    {
     "data": {
      "image/png": "[encoded data removed]",
      "text/plain": [
       "<Figure size 600x400 with 2 Axes>"
      ]
     },
     "metadata": {},
     "output_type": "display_data"
    }
   ],
   "source": [
    "plt.figure(figsize=(6,4))\n",
    "corr = df[['course_rating', 'course_students_enrolled']].corr()\n",
    "sns.heatmap(corr, annot=True, cmap='Blues', vmin=-1, vmax=1)\n",
    "plt.title(\"Correlation Heatmap\")\n",
    "plt.show()"
   ]
  },
  {
   "cell_type": "markdown",
   "metadata": {},
   "source": [
    "There are no correlation between course rating and number of students enrolled."
   ]
  },
  {
   "cell_type": "markdown",
   "metadata": {},
   "source": [
    "### Top 10 organizations by number of courses"
   ]
  },
  {
   "cell_type": "code",
   "execution_count": 163,
   "metadata": {},
   "outputs": [
    {
     "data": {
      "image/png": "[encoded data removed]",
      "text/plain": [
       "<Figure size 1000x600 with 1 Axes>"
      ]
     },
     "metadata": {},
     "output_type": "display_data"
    }
   ],
   "source": [
    "top_10_organizations = df['course_organization'].value_counts().head(10)\n",
    "plt.figure(figsize=(10,6))\n",
    "top_10_organizations.plot(kind='barh', color='#1f77b4')\n",
    "plt.title(\"Top 10 Course organizations by number of courses\", fontsize=16)\n",
    "plt.xlabel('')\n",
    "plt.ylabel('')\n",
    "plt.gca().invert_yaxis() \n",
    "for index, value in enumerate(top_10_organizations):\n",
    "    plt.text(value, index, f'{int(value)}', va='center', ha='right', fontsize=12, color='white')\n",
    "plt.show()"
   ]
  },
  {
   "cell_type": "markdown",
   "metadata": {},
   "source": [
    "The University of Pennsylvania leads with 59 courses on Coursera, followed by the University of Michigan with 41 courses. Google Cloud also has a notable presence, offering 34 courses on the platform"
   ]
  },
  {
   "cell_type": "markdown",
   "metadata": {},
   "source": [
    "### Top 10 organizations by number of students"
   ]
  },
  {
   "cell_type": "code",
   "execution_count": 162,
   "metadata": {},
   "outputs": [
    {
     "data": {
      "image/png": "[encoded data removed]",
      "text/plain": [
       "<Figure size 1000x600 with 1 Axes>"
      ]
     },
     "metadata": {},
     "output_type": "display_data"
    }
   ],
   "source": [
    "top_10_organizations_by_students = df.groupby('course_organization')['course_students_enrolled'].sum().nlargest(10)\n",
    "plt.figure(figsize=(10, 6))\n",
    "top_10_organizations_by_students.plot(kind='barh', color='#1f77b4')\n",
    "plt.title(\"Top 10 organizations by number of students\", fontsize=16)\n",
    "plt.xlabel('')\n",
    "plt.ylabel('')\n",
    "plt.gca().invert_yaxis()  # Invert the y-axis to have the highest values on top\n",
    "formatter = FuncFormatter(lambda x, _: f'{int(x/1000000)} M')\n",
    "plt.gca().xaxis.set_major_formatter(formatter)\n",
    "for index, value in enumerate(top_10_organizations_by_students):\n",
    "    plt.text(value, index, f'{value/1000000:.1f} M', va='center', ha='right', fontsize=12, color='white')\n",
    "    \n",
    "plt.show()"
   ]
  },
  {
   "cell_type": "markdown",
   "metadata": {},
   "source": [
    "The University of Michigan and the University of Pennsylvania attract the highest number of students on Coursera, with 7.4 million and 5.5 million enrollments respectively"
   ]
  },
  {
   "cell_type": "markdown",
   "metadata": {},
   "source": [
    "### The highest rated organizatons that offer at least 5 courses "
   ]
  },
  {
   "cell_type": "code",
   "execution_count": 152,
   "metadata": {},
   "outputs": [
    {
     "name": "stdout",
     "output_type": "stream",
     "text": [
      "                          average_rating  num_courses\n",
      "course_organization                                  \n",
      "Universidad de los Andes        4.820000            5\n",
      "Yale University                 4.817647           17\n",
      "Berklee College of Music        4.807143           14\n",
      "Macquarie University            4.800000            9\n",
      "The Museum of Modern Art        4.783333            6\n",
      "Arizona State University        4.771429            7\n",
      "Stanford University             4.768750           16\n",
      "Universiteit Leiden             4.766667            9\n",
      "Columbia University             4.757143            7\n",
      "Università Bocconi              4.757143            7\n"
     ]
    }
   ],
   "source": [
    "avg_ratings = df.groupby('course_organization')['course_rating'].mean()\n",
    "num_courses = df.groupby('course_organization')['course_title'].count()\n",
    "ratings_and_counts = pd.DataFrame({\n",
    "    'average_rating': avg_ratings,\n",
    "    'num_courses': num_courses\n",
    "})\n",
    "filtered_organizations = ratings_and_counts[ratings_and_counts['num_courses'] >= 5]\n",
    "top_filtered_organizations = filtered_organizations.nlargest(10, 'average_rating')\n",
    "print(top_filtered_organizations)"
   ]
  },
  {
   "cell_type": "markdown",
   "metadata": {},
   "source": [
    "Among organizations offering at least five courses on Coursera, Universidad de los Andes, Yale University, Berklee College of Music, and Macquarie University stand out with average ratings exceeding 4.8, making them the most highly appreciated by learners. Standford and Yale University are the only ones that represented in top 10 by popularity from both quantity of students and quality of materials."
   ]
  },
  {
   "cell_type": "code",
   "execution_count": 193,
   "metadata": {},
   "outputs": [
    {
     "data": {
      "text/html": [
       "<div>\n",
       "<style scoped>\n",
       "    .dataframe tbody tr th:only-of-type {\n",
       "        vertical-align: middle;\n",
       "    }\n",
       "\n",
       "    .dataframe tbody tr th {\n",
       "        vertical-align: top;\n",
       "    }\n",
       "\n",
       "    .dataframe thead th {\n",
       "        text-align: right;\n",
       "    }\n",
       "</style>\n",
       "<table border=\"1\" class=\"dataframe\">\n",
       "  <thead>\n",
       "    <tr style=\"text-align: right;\">\n",
       "      <th></th>\n",
       "      <th>course_title</th>\n",
       "      <th>course_organization</th>\n",
       "      <th>course_Certificate_type</th>\n",
       "      <th>course_rating</th>\n",
       "      <th>course_difficulty</th>\n",
       "      <th>course_students_enrolled</th>\n",
       "    </tr>\n",
       "  </thead>\n",
       "  <tbody>\n",
       "    <tr>\n",
       "      <th>251</th>\n",
       "      <td>El Abogado del Futuro: Legaltech y la Transfor...</td>\n",
       "      <td>Universidad Austral</td>\n",
       "      <td>COURSE</td>\n",
       "      <td>5.0</td>\n",
       "      <td>Beginner</td>\n",
       "      <td>1500.0</td>\n",
       "    </tr>\n",
       "    <tr>\n",
       "      <th>432</th>\n",
       "      <td>Infectious Disease Modelling</td>\n",
       "      <td>Imperial College London</td>\n",
       "      <td>SPECIALIZATION</td>\n",
       "      <td>5.0</td>\n",
       "      <td>Intermediate</td>\n",
       "      <td>1600.0</td>\n",
       "    </tr>\n",
       "    <tr>\n",
       "      <th>754</th>\n",
       "      <td>Stories of Infection</td>\n",
       "      <td>Stanford University</td>\n",
       "      <td>COURSE</td>\n",
       "      <td>4.9</td>\n",
       "      <td>Intermediate</td>\n",
       "      <td>28000.0</td>\n",
       "    </tr>\n",
       "    <tr>\n",
       "      <th>290</th>\n",
       "      <td>Everyday Parenting: The ABCs of Child Rearing</td>\n",
       "      <td>Yale University</td>\n",
       "      <td>COURSE</td>\n",
       "      <td>4.9</td>\n",
       "      <td>Beginner</td>\n",
       "      <td>86000.0</td>\n",
       "    </tr>\n",
       "    <tr>\n",
       "      <th>98</th>\n",
       "      <td>Boosting Creativity for Innovation</td>\n",
       "      <td>HEC Paris</td>\n",
       "      <td>COURSE</td>\n",
       "      <td>4.9</td>\n",
       "      <td>Beginner</td>\n",
       "      <td>9500.0</td>\n",
       "    </tr>\n",
       "  </tbody>\n",
       "</table>\n",
       "</div>"
      ],
      "text/plain": [
       "                                          course_title  \\\n",
       "251  El Abogado del Futuro: Legaltech y la Transfor...   \n",
       "432                       Infectious Disease Modelling   \n",
       "754                               Stories of Infection   \n",
       "290      Everyday Parenting: The ABCs of Child Rearing   \n",
       "98                  Boosting Creativity for Innovation   \n",
       "\n",
       "         course_organization course_Certificate_type  course_rating  \\\n",
       "251      Universidad Austral                  COURSE            5.0   \n",
       "432  Imperial College London          SPECIALIZATION            5.0   \n",
       "754      Stanford University                  COURSE            4.9   \n",
       "290          Yale University                  COURSE            4.9   \n",
       "98                 HEC Paris                  COURSE            4.9   \n",
       "\n",
       "    course_difficulty  course_students_enrolled  \n",
       "251          Beginner                    1500.0  \n",
       "432      Intermediate                    1600.0  \n",
       "754      Intermediate                   28000.0  \n",
       "290          Beginner                   86000.0  \n",
       "98           Beginner                    9500.0  "
      ]
     },
     "execution_count": 193,
     "metadata": {},
     "output_type": "execute_result"
    }
   ],
   "source": [
    "top_courses_by_rating = df.sort_values(by='course_rating', ascending=False).head(5)\n",
    "top_courses_by_rating"
   ]
  },
  {
   "cell_type": "markdown",
   "metadata": {},
   "source": [
    "There are only 2 courses rated the highest grade, but they have relatively small number of students (below 2000). In this case, better to evaluate the courses with at least 4.9 overal rating and more than mean number of students of 90552 students. "
   ]
  },
  {
   "cell_type": "code",
   "execution_count": 196,
   "metadata": {},
   "outputs": [
    {
     "data": {
      "text/html": [
       "<div>\n",
       "<style scoped>\n",
       "    .dataframe tbody tr th:only-of-type {\n",
       "        vertical-align: middle;\n",
       "    }\n",
       "\n",
       "    .dataframe tbody tr th {\n",
       "        vertical-align: top;\n",
       "    }\n",
       "\n",
       "    .dataframe thead th {\n",
       "        text-align: right;\n",
       "    }\n",
       "</style>\n",
       "<table border=\"1\" class=\"dataframe\">\n",
       "  <thead>\n",
       "    <tr style=\"text-align: right;\">\n",
       "      <th></th>\n",
       "      <th>course_title</th>\n",
       "      <th>course_organization</th>\n",
       "      <th>course_Certificate_type</th>\n",
       "      <th>course_rating</th>\n",
       "      <th>course_difficulty</th>\n",
       "      <th>course_students_enrolled</th>\n",
       "    </tr>\n",
       "  </thead>\n",
       "  <tbody>\n",
       "    <tr>\n",
       "      <th>61</th>\n",
       "      <td>Aprendiendo a aprender: Poderosas herramientas...</td>\n",
       "      <td>University of California San Diego</td>\n",
       "      <td>COURSE</td>\n",
       "      <td>4.9</td>\n",
       "      <td>Beginner</td>\n",
       "      <td>180000.0</td>\n",
       "    </tr>\n",
       "    <tr>\n",
       "      <th>65</th>\n",
       "      <td>Arizona State University TESOL</td>\n",
       "      <td>Arizona State University</td>\n",
       "      <td>PROFESSIONAL CERTIFICATE</td>\n",
       "      <td>4.9</td>\n",
       "      <td>Beginner</td>\n",
       "      <td>150000.0</td>\n",
       "    </tr>\n",
       "    <tr>\n",
       "      <th>842</th>\n",
       "      <td>Understanding the Brain: The Neurobiology of E...</td>\n",
       "      <td>The University of Chicago</td>\n",
       "      <td>COURSE</td>\n",
       "      <td>4.9</td>\n",
       "      <td>Beginner</td>\n",
       "      <td>130000.0</td>\n",
       "    </tr>\n",
       "    <tr>\n",
       "      <th>815</th>\n",
       "      <td>The Science of Well-Being</td>\n",
       "      <td>Yale University</td>\n",
       "      <td>COURSE</td>\n",
       "      <td>4.9</td>\n",
       "      <td>Mixed</td>\n",
       "      <td>2500000.0</td>\n",
       "    </tr>\n",
       "    <tr>\n",
       "      <th>780</th>\n",
       "      <td>TESOL Certificate, Part 1: Teach English Now!</td>\n",
       "      <td>Arizona State University</td>\n",
       "      <td>SPECIALIZATION</td>\n",
       "      <td>4.9</td>\n",
       "      <td>Beginner</td>\n",
       "      <td>100000.0</td>\n",
       "    </tr>\n",
       "    <tr>\n",
       "      <th>684</th>\n",
       "      <td>Python Data Structures</td>\n",
       "      <td>University of Michigan</td>\n",
       "      <td>COURSE</td>\n",
       "      <td>4.9</td>\n",
       "      <td>Mixed</td>\n",
       "      <td>420000.0</td>\n",
       "    </tr>\n",
       "    <tr>\n",
       "      <th>626</th>\n",
       "      <td>Neural Networks and Deep Learning</td>\n",
       "      <td>deeplearning.ai</td>\n",
       "      <td>COURSE</td>\n",
       "      <td>4.9</td>\n",
       "      <td>Intermediate</td>\n",
       "      <td>630000.0</td>\n",
       "    </tr>\n",
       "    <tr>\n",
       "      <th>600</th>\n",
       "      <td>Medical Neuroscience</td>\n",
       "      <td>Duke University</td>\n",
       "      <td>COURSE</td>\n",
       "      <td>4.9</td>\n",
       "      <td>Advanced</td>\n",
       "      <td>170000.0</td>\n",
       "    </tr>\n",
       "    <tr>\n",
       "      <th>564</th>\n",
       "      <td>Machine Learning</td>\n",
       "      <td>Stanford University</td>\n",
       "      <td>COURSE</td>\n",
       "      <td>4.9</td>\n",
       "      <td>Mixed</td>\n",
       "      <td>3200000.0</td>\n",
       "    </tr>\n",
       "    <tr>\n",
       "      <th>556</th>\n",
       "      <td>Learn to Speak Korean 1</td>\n",
       "      <td>Yonsei University</td>\n",
       "      <td>COURSE</td>\n",
       "      <td>4.9</td>\n",
       "      <td>Beginner</td>\n",
       "      <td>120000.0</td>\n",
       "    </tr>\n",
       "    <tr>\n",
       "      <th>530</th>\n",
       "      <td>Introdução à Ciência da Computação com Python ...</td>\n",
       "      <td>Universidade de São Paulo</td>\n",
       "      <td>COURSE</td>\n",
       "      <td>4.9</td>\n",
       "      <td>Beginner</td>\n",
       "      <td>120000.0</td>\n",
       "    </tr>\n",
       "    <tr>\n",
       "      <th>512</th>\n",
       "      <td>Introduction to Psychology</td>\n",
       "      <td>Yale University</td>\n",
       "      <td>COURSE</td>\n",
       "      <td>4.9</td>\n",
       "      <td>Beginner</td>\n",
       "      <td>270000.0</td>\n",
       "    </tr>\n",
       "    <tr>\n",
       "      <th>477</th>\n",
       "      <td>Introduction to Classical Music</td>\n",
       "      <td>Yale University</td>\n",
       "      <td>COURSE</td>\n",
       "      <td>4.9</td>\n",
       "      <td>Mixed</td>\n",
       "      <td>150000.0</td>\n",
       "    </tr>\n",
       "    <tr>\n",
       "      <th>427</th>\n",
       "      <td>Improving Deep Neural Networks: Hyperparameter...</td>\n",
       "      <td>deeplearning.ai</td>\n",
       "      <td>COURSE</td>\n",
       "      <td>4.9</td>\n",
       "      <td>Beginner</td>\n",
       "      <td>270000.0</td>\n",
       "    </tr>\n",
       "    <tr>\n",
       "      <th>322</th>\n",
       "      <td>First Step Korean</td>\n",
       "      <td>Yonsei University</td>\n",
       "      <td>COURSE</td>\n",
       "      <td>4.9</td>\n",
       "      <td>Beginner</td>\n",
       "      <td>400000.0</td>\n",
       "    </tr>\n",
       "    <tr>\n",
       "      <th>293</th>\n",
       "      <td>Excel Skills for Business: Essentials</td>\n",
       "      <td>Macquarie University</td>\n",
       "      <td>COURSE</td>\n",
       "      <td>4.9</td>\n",
       "      <td>Beginner</td>\n",
       "      <td>200000.0</td>\n",
       "    </tr>\n",
       "    <tr>\n",
       "      <th>291</th>\n",
       "      <td>Excel Skills for Business</td>\n",
       "      <td>Macquarie University</td>\n",
       "      <td>SPECIALIZATION</td>\n",
       "      <td>4.9</td>\n",
       "      <td>Beginner</td>\n",
       "      <td>240000.0</td>\n",
       "    </tr>\n",
       "    <tr>\n",
       "      <th>162</th>\n",
       "      <td>Convolutional Neural Networks</td>\n",
       "      <td>deeplearning.ai</td>\n",
       "      <td>COURSE</td>\n",
       "      <td>4.9</td>\n",
       "      <td>Intermediate</td>\n",
       "      <td>240000.0</td>\n",
       "    </tr>\n",
       "    <tr>\n",
       "      <th>124</th>\n",
       "      <td>COVID-19 Contact Tracing</td>\n",
       "      <td>Johns Hopkins University</td>\n",
       "      <td>COURSE</td>\n",
       "      <td>4.9</td>\n",
       "      <td>Beginner</td>\n",
       "      <td>220000.0</td>\n",
       "    </tr>\n",
       "    <tr>\n",
       "      <th>103</th>\n",
       "      <td>Build a Modern Computer from First Principles:...</td>\n",
       "      <td>Hebrew University of Jerusalem</td>\n",
       "      <td>COURSE</td>\n",
       "      <td>4.9</td>\n",
       "      <td>Mixed</td>\n",
       "      <td>95000.0</td>\n",
       "    </tr>\n",
       "    <tr>\n",
       "      <th>82</th>\n",
       "      <td>Become a CBRS Certified Professional Installer...</td>\n",
       "      <td>Google - Spectrum Sharing</td>\n",
       "      <td>COURSE</td>\n",
       "      <td>4.9</td>\n",
       "      <td>Mixed</td>\n",
       "      <td>210000.0</td>\n",
       "    </tr>\n",
       "    <tr>\n",
       "      <th>871</th>\n",
       "      <td>Writing in the Sciences</td>\n",
       "      <td>Stanford University</td>\n",
       "      <td>COURSE</td>\n",
       "      <td>4.9</td>\n",
       "      <td>Beginner</td>\n",
       "      <td>140000.0</td>\n",
       "    </tr>\n",
       "  </tbody>\n",
       "</table>\n",
       "</div>"
      ],
      "text/plain": [
       "                                          course_title  \\\n",
       "61   Aprendiendo a aprender: Poderosas herramientas...   \n",
       "65                      Arizona State University TESOL   \n",
       "842  Understanding the Brain: The Neurobiology of E...   \n",
       "815                          The Science of Well-Being   \n",
       "780      TESOL Certificate, Part 1: Teach English Now!   \n",
       "684                             Python Data Structures   \n",
       "626                  Neural Networks and Deep Learning   \n",
       "600                               Medical Neuroscience   \n",
       "564                                   Machine Learning   \n",
       "556                            Learn to Speak Korean 1   \n",
       "530  Introdução à Ciência da Computação com Python ...   \n",
       "512                         Introduction to Psychology   \n",
       "477                    Introduction to Classical Music   \n",
       "427  Improving Deep Neural Networks: Hyperparameter...   \n",
       "322                                  First Step Korean   \n",
       "293              Excel Skills for Business: Essentials   \n",
       "291                          Excel Skills for Business   \n",
       "162                      Convolutional Neural Networks   \n",
       "124                           COVID-19 Contact Tracing   \n",
       "103  Build a Modern Computer from First Principles:...   \n",
       "82   Become a CBRS Certified Professional Installer...   \n",
       "871                            Writing in the Sciences   \n",
       "\n",
       "                    course_organization   course_Certificate_type  \\\n",
       "61   University of California San Diego                    COURSE   \n",
       "65             Arizona State University  PROFESSIONAL CERTIFICATE   \n",
       "842           The University of Chicago                    COURSE   \n",
       "815                     Yale University                    COURSE   \n",
       "780            Arizona State University            SPECIALIZATION   \n",
       "684              University of Michigan                    COURSE   \n",
       "626                     deeplearning.ai                    COURSE   \n",
       "600                     Duke University                    COURSE   \n",
       "564                 Stanford University                    COURSE   \n",
       "556                   Yonsei University                    COURSE   \n",
       "530           Universidade de São Paulo                    COURSE   \n",
       "512                     Yale University                    COURSE   \n",
       "477                     Yale University                    COURSE   \n",
       "427                     deeplearning.ai                    COURSE   \n",
       "322                   Yonsei University                    COURSE   \n",
       "293                Macquarie University                    COURSE   \n",
       "291                Macquarie University            SPECIALIZATION   \n",
       "162                     deeplearning.ai                    COURSE   \n",
       "124            Johns Hopkins University                    COURSE   \n",
       "103      Hebrew University of Jerusalem                    COURSE   \n",
       "82            Google - Spectrum Sharing                    COURSE   \n",
       "871                 Stanford University                    COURSE   \n",
       "\n",
       "     course_rating course_difficulty  course_students_enrolled  \n",
       "61             4.9          Beginner                  180000.0  \n",
       "65             4.9          Beginner                  150000.0  \n",
       "842            4.9          Beginner                  130000.0  \n",
       "815            4.9             Mixed                 2500000.0  \n",
       "780            4.9          Beginner                  100000.0  \n",
       "684            4.9             Mixed                  420000.0  \n",
       "626            4.9      Intermediate                  630000.0  \n",
       "600            4.9          Advanced                  170000.0  \n",
       "564            4.9             Mixed                 3200000.0  \n",
       "556            4.9          Beginner                  120000.0  \n",
       "530            4.9          Beginner                  120000.0  \n",
       "512            4.9          Beginner                  270000.0  \n",
       "477            4.9             Mixed                  150000.0  \n",
       "427            4.9          Beginner                  270000.0  \n",
       "322            4.9          Beginner                  400000.0  \n",
       "293            4.9          Beginner                  200000.0  \n",
       "291            4.9          Beginner                  240000.0  \n",
       "162            4.9      Intermediate                  240000.0  \n",
       "124            4.9          Beginner                  220000.0  \n",
       "103            4.9             Mixed                   95000.0  \n",
       "82             4.9             Mixed                  210000.0  \n",
       "871            4.9          Beginner                  140000.0  "
      ]
     },
     "execution_count": 196,
     "metadata": {},
     "output_type": "execute_result"
    }
   ],
   "source": [
    "filtered_top_df = df[(df['course_rating'] >= 4.9) & (df['course_students_enrolled'] > 90552)]\n",
    "top_courses_filtered_by_rating = filtered_top_df.sort_values(by='course_rating', ascending=False)\n",
    "top_courses_filtered_by_rating"
   ]
  },
  {
   "cell_type": "markdown",
   "metadata": {},
   "source": [
    "There are 22 courses that considered as highly popular and top ratedby students. Most of them provide course certification at the beginner level."
   ]
  },
  {
   "cell_type": "markdown",
   "metadata": {},
   "source": [
    "### The most popular courses by students enrolled"
   ]
  },
  {
   "cell_type": "code",
   "execution_count": 143,
   "metadata": {},
   "outputs": [
    {
     "data": {
      "application/vnd.plotly.v1+json": {
       "config": {
        "plotlyServerURL": "https://plot.ly"
       },
       "data": [
        {
         "alignmentgroup": "True",
         "hovertemplate": "course_students_enrolled=%{x}<br>course_title=%{y}<br>formatted_students_enrolled=%{text}<extra></extra>",
         "legendgroup": "",
         "marker": {
          "color": "#1F77B4",
          "pattern": {
           "shape": ""
          }
         },
         "name": "",
         "offsetgroup": "",
         "orientation": "h",
         "showlegend": false,
         "text": [
          "3.2M",
          "2.5M",
          "1.5M",
          "1.3M",
          "0.83M",
          "0.79M",
          "0.76M",
          "0.75M",
          "0.74M",
          "0.69M"
         ],
         "textposition": "auto",
         "type": "bar",
         "x": [
          3200000,
          2500000,
          1500000,
          1300000,
          830000,
          790000,
          760000,
          750000,
          740000,
          690000
         ],
         "xaxis": "x",
         "y": [
          "Machine Learning",
          "The Science of Well-Being",
          "Python for Everybody",
          "Programming for Everybody (Getting Started with Python)",
          "Data Science",
          "Career Success",
          "English for Career Development",
          "Successful Negotiation: Essential Strategies and Skills",
          "Data Science: Foundations using R",
          "Deep Learning"
         ],
         "yaxis": "y"
        }
       ],
       "layout": {
        "barmode": "relative",
        "height": 600,
        "legend": {
         "tracegroupgap": 0
        },
        "margin": {
         "t": 60
        },
        "showlegend": false,
        "template": {
         "data": {
          "bar": [
           {
            "error_x": {
             "color": "#2a3f5f"
            },
            "error_y": {
             "color": "#2a3f5f"
            },
            "marker": {
             "line": {
              "color": "#E5ECF6",
              "width": 0.5
             },
             "pattern": {
              "fillmode": "overlay",
              "size": 10,
              "solidity": 0.2
             }
            },
            "type": "bar"
           }
          ],
          "barpolar": [
           {
            "marker": {
             "line": {
              "color": "#E5ECF6",
              "width": 0.5
             },
             "pattern": {
              "fillmode": "overlay",
              "size": 10,
              "solidity": 0.2
             }
            },
            "type": "barpolar"
           }
          ],
          "carpet": [
           {
            "aaxis": {
             "endlinecolor": "#2a3f5f",
             "gridcolor": "white",
             "linecolor": "white",
             "minorgridcolor": "white",
             "startlinecolor": "#2a3f5f"
            },
            "baxis": {
             "endlinecolor": "#2a3f5f",
             "gridcolor": "white",
             "linecolor": "white",
             "minorgridcolor": "white",
             "startlinecolor": "#2a3f5f"
            },
            "type": "carpet"
           }
          ],
          "choropleth": [
           {
            "colorbar": {
             "outlinewidth": 0,
             "ticks": ""
            },
            "type": "choropleth"
           }
          ],
          "contour": [
           {
            "colorbar": {
             "outlinewidth": 0,
             "ticks": ""
            },
            "colorscale": [
             [
              0,
              "#0d0887"
             ],
             [
              0.1111111111111111,
              "#46039f"
             ],
             [
              0.2222222222222222,
              "#7201a8"
             ],
             [
              0.3333333333333333,
              "#9c179e"
             ],
             [
              0.4444444444444444,
              "#bd3786"
             ],
             [
              0.5555555555555556,
              "#d8576b"
             ],
             [
              0.6666666666666666,
              "#ed7953"
             ],
             [
              0.7777777777777778,
              "#fb9f3a"
             ],
             [
              0.8888888888888888,
              "#fdca26"
             ],
             [
              1,
              "#f0f921"
             ]
            ],
            "type": "contour"
           }
          ],
          "contourcarpet": [
           {
            "colorbar": {
             "outlinewidth": 0,
             "ticks": ""
            },
            "type": "contourcarpet"
           }
          ],
          "heatmap": [
           {
            "colorbar": {
             "outlinewidth": 0,
             "ticks": ""
            },
            "colorscale": [
             [
              0,
              "#0d0887"
             ],
             [
              0.1111111111111111,
              "#46039f"
             ],
             [
              0.2222222222222222,
              "#7201a8"
             ],
             [
              0.3333333333333333,
              "#9c179e"
             ],
             [
              0.4444444444444444,
              "#bd3786"
             ],
             [
              0.5555555555555556,
              "#d8576b"
             ],
             [
              0.6666666666666666,
              "#ed7953"
             ],
             [
              0.7777777777777778,
              "#fb9f3a"
             ],
             [
              0.8888888888888888,
              "#fdca26"
             ],
             [
              1,
              "#f0f921"
             ]
            ],
            "type": "heatmap"
           }
          ],
          "heatmapgl": [
           {
            "colorbar": {
             "outlinewidth": 0,
             "ticks": ""
            },
            "colorscale": [
             [
              0,
              "#0d0887"
             ],
             [
              0.1111111111111111,
              "#46039f"
             ],
             [
              0.2222222222222222,
              "#7201a8"
             ],
             [
              0.3333333333333333,
              "#9c179e"
             ],
             [
              0.4444444444444444,
              "#bd3786"
             ],
             [
              0.5555555555555556,
              "#d8576b"
             ],
             [
              0.6666666666666666,
              "#ed7953"
             ],
             [
              0.7777777777777778,
              "#fb9f3a"
             ],
             [
              0.8888888888888888,
              "#fdca26"
             ],
             [
              1,
              "#f0f921"
             ]
            ],
            "type": "heatmapgl"
           }
          ],
          "histogram": [
           {
            "marker": {
             "pattern": {
              "fillmode": "overlay",
              "size": 10,
              "solidity": 0.2
             }
            },
            "type": "histogram"
           }
          ],
          "histogram2d": [
           {
            "colorbar": {
             "outlinewidth": 0,
             "ticks": ""
            },
            "colorscale": [
             [
              0,
              "#0d0887"
             ],
             [
              0.1111111111111111,
              "#46039f"
             ],
             [
              0.2222222222222222,
              "#7201a8"
             ],
             [
              0.3333333333333333,
              "#9c179e"
             ],
             [
              0.4444444444444444,
              "#bd3786"
             ],
             [
              0.5555555555555556,
              "#d8576b"
             ],
             [
              0.6666666666666666,
              "#ed7953"
             ],
             [
              0.7777777777777778,
              "#fb9f3a"
             ],
             [
              0.8888888888888888,
              "#fdca26"
             ],
             [
              1,
              "#f0f921"
             ]
            ],
            "type": "histogram2d"
           }
          ],
          "histogram2dcontour": [
           {
            "colorbar": {
             "outlinewidth": 0,
             "ticks": ""
            },
            "colorscale": [
             [
              0,
              "#0d0887"
             ],
             [
              0.1111111111111111,
              "#46039f"
             ],
             [
              0.2222222222222222,
              "#7201a8"
             ],
             [
              0.3333333333333333,
              "#9c179e"
             ],
             [
              0.4444444444444444,
              "#bd3786"
             ],
             [
              0.5555555555555556,
              "#d8576b"
             ],
             [
              0.6666666666666666,
              "#ed7953"
             ],
             [
              0.7777777777777778,
              "#fb9f3a"
             ],
             [
              0.8888888888888888,
              "#fdca26"
             ],
             [
              1,
              "#f0f921"
             ]
            ],
            "type": "histogram2dcontour"
           }
          ],
          "mesh3d": [
           {
            "colorbar": {
             "outlinewidth": 0,
             "ticks": ""
            },
            "type": "mesh3d"
           }
          ],
          "parcoords": [
           {
            "line": {
             "colorbar": {
              "outlinewidth": 0,
              "ticks": ""
             }
            },
            "type": "parcoords"
           }
          ],
          "pie": [
           {
            "automargin": true,
            "type": "pie"
           }
          ],
          "scatter": [
           {
            "fillpattern": {
             "fillmode": "overlay",
             "size": 10,
             "solidity": 0.2
            },
            "type": "scatter"
           }
          ],
          "scatter3d": [
           {
            "line": {
             "colorbar": {
              "outlinewidth": 0,
              "ticks": ""
             }
            },
            "marker": {
             "colorbar": {
              "outlinewidth": 0,
              "ticks": ""
             }
            },
            "type": "scatter3d"
           }
          ],
          "scattercarpet": [
           {
            "marker": {
             "colorbar": {
              "outlinewidth": 0,
              "ticks": ""
             }
            },
            "type": "scattercarpet"
           }
          ],
          "scattergeo": [
           {
            "marker": {
             "colorbar": {
              "outlinewidth": 0,
              "ticks": ""
             }
            },
            "type": "scattergeo"
           }
          ],
          "scattergl": [
           {
            "marker": {
             "colorbar": {
              "outlinewidth": 0,
              "ticks": ""
             }
            },
            "type": "scattergl"
           }
          ],
          "scattermapbox": [
           {
            "marker": {
             "colorbar": {
              "outlinewidth": 0,
              "ticks": ""
             }
            },
            "type": "scattermapbox"
           }
          ],
          "scatterpolar": [
           {
            "marker": {
             "colorbar": {
              "outlinewidth": 0,
              "ticks": ""
             }
            },
            "type": "scatterpolar"
           }
          ],
          "scatterpolargl": [
           {
            "marker": {
             "colorbar": {
              "outlinewidth": 0,
              "ticks": ""
             }
            },
            "type": "scatterpolargl"
           }
          ],
          "scatterternary": [
           {
            "marker": {
             "colorbar": {
              "outlinewidth": 0,
              "ticks": ""
             }
            },
            "type": "scatterternary"
           }
          ],
          "surface": [
           {
            "colorbar": {
             "outlinewidth": 0,
             "ticks": ""
            },
            "colorscale": [
             [
              0,
              "#0d0887"
             ],
             [
              0.1111111111111111,
              "#46039f"
             ],
             [
              0.2222222222222222,
              "#7201a8"
             ],
             [
              0.3333333333333333,
              "#9c179e"
             ],
             [
              0.4444444444444444,
              "#bd3786"
             ],
             [
              0.5555555555555556,
              "#d8576b"
             ],
             [
              0.6666666666666666,
              "#ed7953"
             ],
             [
              0.7777777777777778,
              "#fb9f3a"
             ],
             [
              0.8888888888888888,
              "#fdca26"
             ],
             [
              1,
              "#f0f921"
             ]
            ],
            "type": "surface"
           }
          ],
          "table": [
           {
            "cells": {
             "fill": {
              "color": "#EBF0F8"
             },
             "line": {
              "color": "white"
             }
            },
            "header": {
             "fill": {
              "color": "#C8D4E3"
             },
             "line": {
              "color": "white"
             }
            },
            "type": "table"
           }
          ]
         },
         "layout": {
          "annotationdefaults": {
           "arrowcolor": "#2a3f5f",
           "arrowhead": 0,
           "arrowwidth": 1
          },
          "autotypenumbers": "strict",
          "coloraxis": {
           "colorbar": {
            "outlinewidth": 0,
            "ticks": ""
           }
          },
          "colorscale": {
           "diverging": [
            [
             0,
             "#8e0152"
            ],
            [
             0.1,
             "#c51b7d"
            ],
            [
             0.2,
             "#de77ae"
            ],
            [
             0.3,
             "#f1b6da"
            ],
            [
             0.4,
             "#fde0ef"
            ],
            [
             0.5,
             "#f7f7f7"
            ],
            [
             0.6,
             "#e6f5d0"
            ],
            [
             0.7,
             "#b8e186"
            ],
            [
             0.8,
             "#7fbc41"
            ],
            [
             0.9,
             "#4d9221"
            ],
            [
             1,
             "#276419"
            ]
           ],
           "sequential": [
            [
             0,
             "#0d0887"
            ],
            [
             0.1111111111111111,
             "#46039f"
            ],
            [
             0.2222222222222222,
             "#7201a8"
            ],
            [
             0.3333333333333333,
             "#9c179e"
            ],
            [
             0.4444444444444444,
             "#bd3786"
            ],
            [
             0.5555555555555556,
             "#d8576b"
            ],
            [
             0.6666666666666666,
             "#ed7953"
            ],
            [
             0.7777777777777778,
             "#fb9f3a"
            ],
            [
             0.8888888888888888,
             "#fdca26"
            ],
            [
             1,
             "#f0f921"
            ]
           ],
           "sequentialminus": [
            [
             0,
             "#0d0887"
            ],
            [
             0.1111111111111111,
             "#46039f"
            ],
            [
             0.2222222222222222,
             "#7201a8"
            ],
            [
             0.3333333333333333,
             "#9c179e"
            ],
            [
             0.4444444444444444,
             "#bd3786"
            ],
            [
             0.5555555555555556,
             "#d8576b"
            ],
            [
             0.6666666666666666,
             "#ed7953"
            ],
            [
             0.7777777777777778,
             "#fb9f3a"
            ],
            [
             0.8888888888888888,
             "#fdca26"
            ],
            [
             1,
             "#f0f921"
            ]
           ]
          },
          "colorway": [
           "#636efa",
           "#EF553B",
           "#00cc96",
           "#ab63fa",
           "#FFA15A",
           "#19d3f3",
           "#FF6692",
           "#B6E880",
           "#FF97FF",
           "#FECB52"
          ],
          "font": {
           "color": "#2a3f5f"
          },
          "geo": {
           "bgcolor": "white",
           "lakecolor": "white",
           "landcolor": "#E5ECF6",
           "showlakes": true,
           "showland": true,
           "subunitcolor": "white"
          },
          "hoverlabel": {
           "align": "left"
          },
          "hovermode": "closest",
          "mapbox": {
           "style": "light"
          },
          "paper_bgcolor": "white",
          "plot_bgcolor": "#E5ECF6",
          "polar": {
           "angularaxis": {
            "gridcolor": "white",
            "linecolor": "white",
            "ticks": ""
           },
           "bgcolor": "#E5ECF6",
           "radialaxis": {
            "gridcolor": "white",
            "linecolor": "white",
            "ticks": ""
           }
          },
          "scene": {
           "xaxis": {
            "backgroundcolor": "#E5ECF6",
            "gridcolor": "white",
            "gridwidth": 2,
            "linecolor": "white",
            "showbackground": true,
            "ticks": "",
            "zerolinecolor": "white"
           },
           "yaxis": {
            "backgroundcolor": "#E5ECF6",
            "gridcolor": "white",
            "gridwidth": 2,
            "linecolor": "white",
            "showbackground": true,
            "ticks": "",
            "zerolinecolor": "white"
           },
           "zaxis": {
            "backgroundcolor": "#E5ECF6",
            "gridcolor": "white",
            "gridwidth": 2,
            "linecolor": "white",
            "showbackground": true,
            "ticks": "",
            "zerolinecolor": "white"
           }
          },
          "shapedefaults": {
           "line": {
            "color": "#2a3f5f"
           }
          },
          "ternary": {
           "aaxis": {
            "gridcolor": "white",
            "linecolor": "white",
            "ticks": ""
           },
           "baxis": {
            "gridcolor": "white",
            "linecolor": "white",
            "ticks": ""
           },
           "bgcolor": "#E5ECF6",
           "caxis": {
            "gridcolor": "white",
            "linecolor": "white",
            "ticks": ""
           }
          },
          "title": {
           "x": 0.05
          },
          "xaxis": {
           "automargin": true,
           "gridcolor": "white",
           "linecolor": "white",
           "ticks": "",
           "title": {
            "standoff": 15
           },
           "zerolinecolor": "white",
           "zerolinewidth": 2
          },
          "yaxis": {
           "automargin": true,
           "gridcolor": "white",
           "linecolor": "white",
           "ticks": "",
           "title": {
            "standoff": 15
           },
           "zerolinecolor": "white",
           "zerolinewidth": 2
          }
         }
        },
        "title": {
         "font": {
          "size": 22
         },
         "text": "Top 10 courses by number of students",
         "x": 0.5,
         "xanchor": "center",
         "y": 0.95,
         "yanchor": "top"
        },
        "width": 1000,
        "xaxis": {
         "anchor": "y",
         "domain": [
          0,
          1
         ],
         "ticktext": [
          "0.5M",
          "1M",
          "1.5M",
          "2M",
          "2.5M",
          "3M",
          "3.5M"
         ],
         "tickvals": [
          500000,
          1000000,
          1500000,
          2000000,
          2500000,
          3000000,
          3500000
         ],
         "title": {}
        },
        "yaxis": {
         "anchor": "x",
         "categoryorder": "total ascending",
         "domain": [
          0,
          1
         ],
         "title": {}
        }
       }
      }
     },
     "metadata": {},
     "output_type": "display_data"
    }
   ],
   "source": [
    "top_courses = df.sort_values(by='course_students_enrolled', ascending=False).head(10)\n",
    "\n",
    "# Format the 'course_students_enrolled' to 'x.xxM' format\n",
    "top_courses['formatted_students_enrolled'] = top_courses['course_students_enrolled'].apply(\n",
    "    lambda x: f'{x/1e6:.1f}M' if x >= 1e6 else f'{x/1e6:.2f}M'  \n",
    ")\n",
    "fig = px.bar(top_courses, \n",
    "             x='course_students_enrolled', \n",
    "             orientation='h',\n",
    "             y='course_title',\n",
    "             text='formatted_students_enrolled',\n",
    "             color_discrete_sequence=['#1F77B4'])  \n",
    "\n",
    "fig.update_layout(\n",
    "    title={\n",
    "        'text': \"Top 10 courses by number of students\",\n",
    "        'y':0.95,  \n",
    "        'x':0.5,   \n",
    "        'xanchor': 'center',\n",
    "        'yanchor': 'top',\n",
    "        'font': {'size': 22}  \n",
    "    },\n",
    "    xaxis_title=None, \n",
    "    yaxis_title=None,\n",
    "    yaxis_categoryorder='total ascending',\n",
    "    width=1000,\n",
    "    height=600,\n",
    "    showlegend=False  \n",
    ")\n",
    "\n",
    "fig.update_xaxes(\n",
    "    tickvals=[0.5e6, 1e6, 1.5e6, 2e6, 2.5e6, 3e6, 3.5e6],\n",
    "    ticktext=[\"0.5M\", \"1M\", \"1.5M\", \"2M\", \"2.5M\", \"3M\", \"3.5M\"]\n",
    ")\n",
    "fig.show()"
   ]
  },
  {
   "cell_type": "markdown",
   "metadata": {},
   "source": [
    "The course on Machine Learning attracted the highest number of students, exceeding 3.2 million enrollments. Among the top 10 courses by student enrollment, two are focused on Python and four are dedicated to various data science topics, highlighting the significant interest and demand for these subjects among learners."
   ]
  },
  {
   "cell_type": "markdown",
   "metadata": {},
   "source": [
    "### Organizations with lowest rating (at least 5 courses)"
   ]
  },
  {
   "cell_type": "code",
   "execution_count": null,
   "metadata": {},
   "outputs": [
    {
     "data": {
      "image/png": "[encoded data removed]",
      "text/plain": [
       "<Figure size 1000x600 with 1 Axes>"
      ]
     },
     "metadata": {},
     "output_type": "display_data"
    }
   ],
   "source": [
    "bottom_5_organizations = filtered_organizations.nsmallest(10, 'average_rating')\n",
    "plt.figure(figsize=(10, 6))\n",
    "plt.barh(bottom_5_organizations.index, bottom_5_organizations['average_rating'], color='#1f77b4')\n",
    "for index, value in enumerate(bottom_5_organizations['average_rating']):\n",
    "    plt.text(value, index, f'{value:.2f}', va='center', ha='right', fontsize=12, color='white')\n",
    "plt.title(\"Bottom 10 organizations by average course rating\", fontsize=16)\n",
    "plt.xlabel(' ')\n",
    "plt.ylabel(' ')\n",
    "plt.gca().invert_yaxis()  \n",
    "plt.show()"
   ]
  },
  {
   "cell_type": "markdown",
   "metadata": {},
   "source": [
    "The least appreciated organizations are Emory University and New York university with overall rating 4.5. Bottom 10 organizations should work on improvement of their course materials and overall students' satisfaction."
   ]
  },
  {
   "cell_type": "code",
   "execution_count": null,
   "metadata": {},
   "outputs": [
    {
     "data": {
      "text/html": [
       "<div>\n",
       "<style scoped>\n",
       "    .dataframe tbody tr th:only-of-type {\n",
       "        vertical-align: middle;\n",
       "    }\n",
       "\n",
       "    .dataframe tbody tr th {\n",
       "        vertical-align: top;\n",
       "    }\n",
       "\n",
       "    .dataframe thead th {\n",
       "        text-align: right;\n",
       "    }\n",
       "</style>\n",
       "<table border=\"1\" class=\"dataframe\">\n",
       "  <thead>\n",
       "    <tr style=\"text-align: right;\">\n",
       "      <th></th>\n",
       "      <th>course_title</th>\n",
       "      <th>course_organization</th>\n",
       "      <th>course_Certificate_type</th>\n",
       "      <th>course_rating</th>\n",
       "      <th>course_difficulty</th>\n",
       "      <th>course_students_enrolled</th>\n",
       "    </tr>\n",
       "  </thead>\n",
       "  <tbody>\n",
       "    <tr>\n",
       "      <th>413</th>\n",
       "      <td>How To Create a Website in a Weekend! (Project...</td>\n",
       "      <td>The State University of New York</td>\n",
       "      <td>COURSE</td>\n",
       "      <td>3.3</td>\n",
       "      <td>Mixed</td>\n",
       "      <td>140000.0</td>\n",
       "    </tr>\n",
       "    <tr>\n",
       "      <th>566</th>\n",
       "      <td>Machine Learning and Reinforcement Learning in...</td>\n",
       "      <td>New York University</td>\n",
       "      <td>SPECIALIZATION</td>\n",
       "      <td>3.7</td>\n",
       "      <td>Intermediate</td>\n",
       "      <td>29000.0</td>\n",
       "    </tr>\n",
       "    <tr>\n",
       "      <th>873</th>\n",
       "      <td>iOS App Development with Swift</td>\n",
       "      <td>University of Toronto</td>\n",
       "      <td>SPECIALIZATION</td>\n",
       "      <td>3.9</td>\n",
       "      <td>Intermediate</td>\n",
       "      <td>76000.0</td>\n",
       "    </tr>\n",
       "    <tr>\n",
       "      <th>569</th>\n",
       "      <td>Machine Learning for Trading</td>\n",
       "      <td>Google Cloud</td>\n",
       "      <td>SPECIALIZATION</td>\n",
       "      <td>3.9</td>\n",
       "      <td>Intermediate</td>\n",
       "      <td>15000.0</td>\n",
       "    </tr>\n",
       "    <tr>\n",
       "      <th>522</th>\n",
       "      <td>Introduction to Trading, Machine Learning &amp; GCP</td>\n",
       "      <td>New York Institute of Finance</td>\n",
       "      <td>COURSE</td>\n",
       "      <td>4.0</td>\n",
       "      <td>Intermediate</td>\n",
       "      <td>13000.0</td>\n",
       "    </tr>\n",
       "  </tbody>\n",
       "</table>\n",
       "</div>"
      ],
      "text/plain": [
       "                                          course_title  \\\n",
       "413  How To Create a Website in a Weekend! (Project...   \n",
       "566  Machine Learning and Reinforcement Learning in...   \n",
       "873                     iOS App Development with Swift   \n",
       "569                       Machine Learning for Trading   \n",
       "522    Introduction to Trading, Machine Learning & GCP   \n",
       "\n",
       "                  course_organization course_Certificate_type  course_rating  \\\n",
       "413  The State University of New York                  COURSE            3.3   \n",
       "566               New York University          SPECIALIZATION            3.7   \n",
       "873             University of Toronto          SPECIALIZATION            3.9   \n",
       "569                      Google Cloud          SPECIALIZATION            3.9   \n",
       "522     New York Institute of Finance                  COURSE            4.0   \n",
       "\n",
       "    course_difficulty  course_students_enrolled  \n",
       "413             Mixed                  140000.0  \n",
       "566      Intermediate                   29000.0  \n",
       "873      Intermediate                   76000.0  \n",
       "569      Intermediate                   15000.0  \n",
       "522      Intermediate                   13000.0  "
      ]
     },
     "metadata": {},
     "output_type": "display_data"
    }
   ],
   "source": [
    "bottom_courses = df.sort_values(by='course_rating', ascending=True).head(5)\n",
    "bottom_courses"
   ]
  },
  {
   "cell_type": "markdown",
   "metadata": {},
   "source": [
    "3 out of 5 least rated courses are related to machine learning."
   ]
  },
  {
   "cell_type": "markdown",
   "metadata": {},
   "source": [
    "# Conclusions"
   ]
  },
  {
   "cell_type": "markdown",
   "metadata": {},
   "source": [
    "- Coursera provides 891 courses with average rating of 4.68. In total 80.7 million students have been enrolled into studies.\n",
    "- More than half (54.7%) of courses are designed for beginners, while 49.5% of students choose beginner courses.\n",
    "- 63.4% of students have selected 'course' certicicate. Advanced-level course mostly aimed at providing specialization certicicate (52.6%).\n",
    "- There is  no relationship between number of students  enrolled in a course and the course rating.\n",
    "- The University of Pennsylvania provides the most courses on Coursera(59). University of Michigan has the largest students population (7.4m). Universidad de los Andesprovide the top rated courses with average rating above 4.8. Standford and Yale University are the only organizations that represented in top 10 by popularity from both quantity of students and quality of materials. Emory University and New York university has the lowest overall rating 4.5.\n",
    "- Data science related course are really popular within students 6 out of 10 top courses by enrolled students. At the same time the least rated courses are also related to data science."
   ]
  },
  {
   "cell_type": "markdown",
   "metadata": {},
   "source": [
    "# Areas of improvement"
   ]
  },
  {
   "cell_type": "markdown",
   "metadata": {},
   "source": [
    "- Time frame of data is not specified\n",
    "- Estimations without outliers would demonstrate different results\n",
    "- Future research should be aimed at comparison with other study platforms\n",
    "- Detailed data on ratings  would help to understand what makes the course successfull and how to improve least rated courses"
   ]
  }
 ],
 "metadata": {
  "kernelspec": {
   "display_name": "base",
   "language": "python",
   "name": "python3"
  },
  "language_info": {
   "codemirror_mode": {
    "name": "ipython",
    "version": 3
   },
   "file_extension": ".py",
   "mimetype": "text/x-python",
   "name": "python",
   "nbconvert_exporter": "python",
   "pygments_lexer": "ipython3",
   "version": "3.12.4"
  }
 },
 "nbformat": 4,
 "nbformat_minor": 2
}
